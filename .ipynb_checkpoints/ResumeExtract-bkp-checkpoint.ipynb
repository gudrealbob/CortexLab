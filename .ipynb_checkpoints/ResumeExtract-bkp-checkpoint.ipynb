{
 "cells": [
  {
   "cell_type": "markdown",
   "id": "b5965e61-64db-4ff6-8928-18343c396949",
   "metadata": {},
   "source": [
    "# Resume Data Extraction\n",
    "Authered By : Ashish Dubey"
   ]
  },
  {
   "cell_type": "markdown",
   "id": "9ba24f4f-03f7-4df6-b14a-e0363b90c3ba",
   "metadata": {},
   "source": [
    "# extract raw text"
   ]
  },
  {
   "cell_type": "code",
   "execution_count": 5,
   "id": "fa744c5e-9e1b-4499-b460-6aa7ad5e3f3f",
   "metadata": {},
   "outputs": [],
   "source": [
    "import fitz  # PyMuPDF\n",
    "\n",
    "def extract_text_from_pdf(pdf_path):\n",
    "    with fitz.open(pdf_path) as doc:\n",
    "        text = \"\"\n",
    "        for page in doc:\n",
    "            text += page.get_text()\n",
    "    return text\n",
    "\n",
    "raw_text = extract_text_from_pdf(\"data/Sample Resume 0.pdf\")"
   ]
  },
  {
   "cell_type": "code",
   "execution_count": 6,
   "id": "748df1d9-66ea-47a7-baee-726f3efb07d7",
   "metadata": {},
   "outputs": [
    {
     "data": {
      "text/plain": [
       "' \\n \\n \\n \\n \\n \\n \\nDhiraj Sharma \\n+91 8105000549 \\n     Dhiraj.Sharma@wipro.com \\n \\n \\nSYNOPSIS:  \\uf0b7\\n \\nThirteen years of work experience, wherein last eleven years has been in healthcare \\ndomain in Consultancy, Client Relationship, Product, Program, and Requirements \\nManagement area. \\uf0b7\\n \\nWell-versed in Healthcare domain i.e. Healthcare Administration and Claims, HIPAA, HL7, \\nHospital Information System (EMR for Acute care), Revenue Cycle Management, Provider \\nContract Management etc. with exposure to US, Europe and Asian markets. \\n \\nEDUCATION: \\uf0b7\\n \\nDiploma in Advanced Computing (C-DAC), Ahmedabad (2000) \\uf0b7\\n \\nMaster of Business Administration (MBA) Marketing, Pune University, Pune (1999) \\uf0b7\\n \\nBachelor of Science (B. Sc), Gujarat University, Ahmedabad (1995) \\n \\n \\nCERTIFICATIONS: \\uf0b7\\n \\nPMP from Project Management Institute \\uf0b7\\n \\nFellow, Academy for Healthcare Management (FAHM).   \\uf0b7\\n \\nProfessional, Academy for Healthcare Management (PAHM).   \\uf0b7\\n \\nRequirements Management Certified from Rational Corporation (Bangalore) \\n \\nPUBLICATION AND RECOGNIZATION: \\uf0b7\\n \\nThe Future of RCM – Preparing for near term changes  \\nhttp://www.himss.org/content/files/FutureofRevenueCycleWhitePaper-EDITED5-24NV.pdf \\uf0b7\\n \\n‘Just a dose of healthcare statistics’ article, where the state of Indian healthcare vis-à-vis its \\neconomy and other markets is compared.  \\nPath: http://www.expresshealthcaremgmt.com/20040715/analysis01.shtml  \\uf0b7\\n \\nWhite Paper on HIPAA 5010 \\n \\nEXPERIENCE:   \\n \\n2010 to Present    Wipro Technologies \\n \\n \\n \\n             Bangalore, India \\n \\nSr. Manager – Healthcare Business  \\n \\nDhiraj is responsible for building market specific solution and provide consultancy to Payer \\nand Provider, solutions built and implemented during the last 18 months include –  \\n\\uf0fc HIPAA 5010 / ICD-10 \\n\\uf0fc Medical Coding and document retrieval \\n\\uf0fc Encounter Data Processing (Medicare Supplement market) \\n\\uf0fc Patient Centricity \\n\\uf0fc Bed Side Data Capture - eMobility Solution  \\n \\nPresently accountable for all HIPAA 5010 / ICD 10 initiative, responsibilities include HIPAA \\n5010 / ICD 10 solution development, pre-sales, RFP response, delivery and client interactions. \\n \\n \\n \\n \\n \\n \\n \\n \\n \\n \\n \\n2009 to 2010    HTC Global Services  \\n \\n \\n                                             Troy, US \\n \\nPractice Manager - Healthcare   \\nResponsible for developing healthcare competency which includes - new business \\ndevelopment, identifying and building alliances in product categories like ambulatory or \\nacute EMR, BPM, MMIS Document Capture and Processing etc., solution development, HIPAA \\n5010 analysis, support pre-sales activities i.e. RFP response, defense and client presentations. \\nDeliverables – ‘MMIS Document Capture and Processing’, ‘Automated Prescription System’ \\nsolution and ‘Clinical Document Management’ proof-of-concept (PoC) \\n \\n2007 to 2009    Mahindra Satyam Computer Services Ltd                           Bloomington, US \\n \\nEngagement Lead / Program Manager – State Farm Insurance \\nRepresented ‘Mahindra Satyam’ at ‘State Farm - Health Insurance’ account; an account worth \\n$4 million annually. Responsibilities include Account P & L, Team management, \\nunderstanding, setting and meeting Client Expectation/s, and exploring new business \\nopportunities. \\nDeliverable - Account growth by 150% in revenue terms \\n \\nLead Domain Consultant – Domain Competency Group  \\n‘Mahindra Satyam’ subject matter expert - health insurance unit for US, Europe and Australian \\nmarket. Responsibility includes providing domain inputs, RFP response, participate in RFP \\ndefense, Client presentation and widen competency.  \\nDeliverables – Pharmacy Benefits Solution, Revenue Cycle Management, Business Process \\nAutomation, Claims Process Automations solutions and service offering co-laterals  \\n \\n2006 to 2007    iSoft R& D Development Center                                                       Chennai, India \\n \\nProduct Manager (Hospital Information System / Acute EMR) – Integration  \\nLead HL7 integration for Lorenzo Clinical (iSoft Flagship product) responsible for delivery of \\nintegration functionality to multiple markets i.e. Singapore, The Netherlands, Germany and \\nUK. Task includes team management, requirement prioritization, and delivering product \\nfunctionality.  \\nDeliverable – On-time deliverable of ADT, ORU and MDM messages \\n \\nAssociate Product Manager (HIS / Acute EMR) – Netherlands Market \\nProduct Manager ‘The Netherlands’ market, responsible for Client Interactions and Product \\nfor the Netherlands (NL) market. Lead Lorenzo implementation effort which includes phase-\\nwise Implementation Planning, Data Migration, Product Training, Parallel application \\nrunning, and Go-Live.  \\nDeliverable – Successful implementation of Phase-I functionalities  \\n \\n2003 to 2006    First Consulting Group                             \\n \\n             Bangalore, India \\n \\nSr. Business Analyst \\nRequirements Management Lead for Humana. Responsible for requirements management, \\ncustomer sign-off and project estimation for Medicare business line policy administration \\nprocess i.e. migration from existing application to Metavance. \\n \\n \\n \\n \\n \\n \\n \\n \\n \\n \\n \\nFCG first BPO Project: Lead FCG for this project and understood Humana’s enrollment and  \\nverification requirements, defined quality assurance process and helped them set ‘Service \\nLevel Agreement (SLA)’. \\n \\nHIPAA 4010A1 Implementation – Accountable for managing requirements for 4010A1 project \\ni.e. requirement elicitation, documentation and management for 270/271, 837 and 835 \\ntransaction set.  \\n \\nBusiness Analyst  \\n‘Concuity’: A healthcare contract management product company with ‘Clear Contract’ product \\nintegrated to Claims, thus helping providers manages their Revenue Cycle better. Represented \\nFCG and was responsible for defining project scope, requirements elicitation and \\nmanagement, estimation, and functional testing. \\n \\nJr. Business Analyst \\nClient American HealthTech – Joined team FCG with this project, was managing requirements, \\nreviewing test cases and functional testing.  \\n \\n2000 to 2003    iCubix Infotech Ltd                                                                    Ahmedabad, India \\n \\nFunctional Analyst  \\nRepresented iCubix and took care of complete requirement management aspect. \\n \\n1999 to 2000    General Electric Lighting (India) Ltd                                              Gujarat, India \\n \\nSales Executive (Consumer)   \\n \\n \\n \\n       \\n‘Territory In-charge’ for Saurashtra region, responsible for Sales and Network Management \\n \\n \\n'"
      ]
     },
     "execution_count": 6,
     "metadata": {},
     "output_type": "execute_result"
    }
   ],
   "source": [
    "raw_text"
   ]
  },
  {
   "cell_type": "code",
   "execution_count": 1,
   "id": "4b427442-8bf6-4488-bd01-23b552e8fef5",
   "metadata": {},
   "outputs": [],
   "source": [
    "## Normalize the extracted text"
   ]
  },
  {
   "cell_type": "code",
   "execution_count": 14,
   "id": "c317ba4f-2334-4093-bf27-aa014045b8e3",
   "metadata": {},
   "outputs": [],
   "source": [
    "import re\n",
    "\n",
    "def normalize_text(text):\n",
    "    # Remove multiple spaces and line breaks\n",
    "    text = re.sub(r'[\\uf0b7•·▪◦●■□♦➤▶►\\s]+', ' ', text)\n",
    "    return text.strip()\n",
    "\n",
    "clean_text = normalize_text(raw_text)"
   ]
  },
  {
   "cell_type": "code",
   "execution_count": 8,
   "id": "8b014142-4564-467f-ae58-8ad69e3c5ce4",
   "metadata": {},
   "outputs": [
    {
     "data": {
      "text/plain": [
       "'Dhiraj Sharma +91 8105000549 Dhiraj.Sharma@wipro.com SYNOPSIS: Thirteen years of work experience, wherein last eleven years has been in healthcare domain in Consultancy, Client Relationship, Product, Program, and Requirements Management area. Well-versed in Healthcare domain i.e. Healthcare Administration and Claims, HIPAA, HL7, Hospital Information System (EMR for Acute care), Revenue Cycle Management, Provider Contract Management etc. with exposure to US, Europe and Asian markets. EDUCATION: Diploma in Advanced Computing (C-DAC), Ahmedabad (2000) Master of Business Administration (MBA) Marketing, Pune University, Pune (1999) Bachelor of Science (B. Sc), Gujarat University, Ahmedabad (1995) CERTIFICATIONS: PMP from Project Management Institute Fellow, Academy for Healthcare Management (FAHM). Professional, Academy for Healthcare Management (PAHM). Requirements Management Certified from Rational Corporation (Bangalore) PUBLICATION AND RECOGNIZATION: The Future of RCM – Preparing for near term changes http://www.himss.org/content/files/FutureofRevenueCycleWhitePaper-EDITED5-24NV.pdf ‘Just a dose of healthcare statistics’ article, where the state of Indian healthcare vis-à-vis its economy and other markets is compared. Path: http://www.expresshealthcaremgmt.com/20040715/analysis01.shtml White Paper on HIPAA 5010 EXPERIENCE: 2010 to Present Wipro Technologies Bangalore, India Sr. Manager – Healthcare Business Dhiraj is responsible for building market specific solution and provide consultancy to Payer and Provider, solutions built and implemented during the last 18 months include – \\uf0fc HIPAA 5010 / ICD-10 \\uf0fc Medical Coding and document retrieval \\uf0fc Encounter Data Processing (Medicare Supplement market) \\uf0fc Patient Centricity \\uf0fc Bed Side Data Capture - eMobility Solution Presently accountable for all HIPAA 5010 / ICD 10 initiative, responsibilities include HIPAA 5010 / ICD 10 solution development, pre-sales, RFP response, delivery and client interactions. 2009 to 2010 HTC Global Services Troy, US Practice Manager - Healthcare Responsible for developing healthcare competency which includes - new business development, identifying and building alliances in product categories like ambulatory or acute EMR, BPM, MMIS Document Capture and Processing etc., solution development, HIPAA 5010 analysis, support pre-sales activities i.e. RFP response, defense and client presentations. Deliverables – ‘MMIS Document Capture and Processing’, ‘Automated Prescription System’ solution and ‘Clinical Document Management’ proof-of-concept (PoC) 2007 to 2009 Mahindra Satyam Computer Services Ltd Bloomington, US Engagement Lead / Program Manager – State Farm Insurance Represented ‘Mahindra Satyam’ at ‘State Farm - Health Insurance’ account; an account worth $4 million annually. Responsibilities include Account P & L, Team management, understanding, setting and meeting Client Expectation/s, and exploring new business opportunities. Deliverable - Account growth by 150% in revenue terms Lead Domain Consultant – Domain Competency Group ‘Mahindra Satyam’ subject matter expert - health insurance unit for US, Europe and Australian market. Responsibility includes providing domain inputs, RFP response, participate in RFP defense, Client presentation and widen competency. Deliverables – Pharmacy Benefits Solution, Revenue Cycle Management, Business Process Automation, Claims Process Automations solutions and service offering co-laterals 2006 to 2007 iSoft R& D Development Center Chennai, India Product Manager (Hospital Information System / Acute EMR) – Integration Lead HL7 integration for Lorenzo Clinical (iSoft Flagship product) responsible for delivery of integration functionality to multiple markets i.e. Singapore, The Netherlands, Germany and UK. Task includes team management, requirement prioritization, and delivering product functionality. Deliverable – On-time deliverable of ADT, ORU and MDM messages Associate Product Manager (HIS / Acute EMR) – Netherlands Market Product Manager ‘The Netherlands’ market, responsible for Client Interactions and Product for the Netherlands (NL) market. Lead Lorenzo implementation effort which includes phase- wise Implementation Planning, Data Migration, Product Training, Parallel application running, and Go-Live. Deliverable – Successful implementation of Phase-I functionalities 2003 to 2006 First Consulting Group Bangalore, India Sr. Business Analyst Requirements Management Lead for Humana. Responsible for requirements management, customer sign-off and project estimation for Medicare business line policy administration process i.e. migration from existing application to Metavance. FCG first BPO Project: Lead FCG for this project and understood Humana’s enrollment and verification requirements, defined quality assurance process and helped them set ‘Service Level Agreement (SLA)’. HIPAA 4010A1 Implementation – Accountable for managing requirements for 4010A1 project i.e. requirement elicitation, documentation and management for 270/271, 837 and 835 transaction set. Business Analyst ‘Concuity’: A healthcare contract management product company with ‘Clear Contract’ product integrated to Claims, thus helping providers manages their Revenue Cycle better. Represented FCG and was responsible for defining project scope, requirements elicitation and management, estimation, and functional testing. Jr. Business Analyst Client American HealthTech – Joined team FCG with this project, was managing requirements, reviewing test cases and functional testing. 2000 to 2003 iCubix Infotech Ltd Ahmedabad, India Functional Analyst Represented iCubix and took care of complete requirement management aspect. 1999 to 2000 General Electric Lighting (India) Ltd Gujarat, India Sales Executive (Consumer) ‘Territory In-charge’ for Saurashtra region, responsible for Sales and Network Management'"
      ]
     },
     "execution_count": 8,
     "metadata": {},
     "output_type": "execute_result"
    }
   ],
   "source": [
    "## locate and extract fields\n",
    "clean_text"
   ]
  },
  {
   "cell_type": "code",
   "execution_count": 19,
   "id": "2bad0bdb-c029-4d8a-be97-f8625532c3b3",
   "metadata": {},
   "outputs": [
    {
     "name": "stdout",
     "output_type": "stream",
     "text": [
      "{'Name': 'Dhiraj Sharma', 'Email': 'Dhiraj.Sharma@wipro.com', 'Phone': '918105000549', 'Education': ': Diploma in Advanced Computing (C-DAC), Ahmedabad (2000) Master of Business Administration (MBA) Marketing, Pune University, Pune (1999) Bachelor of Science (B. Sc), Gujarat University, Ahmedabad (1995) CERTIFICATIONS: PMP from Project Management Institute Fellow, Academy for Healthcare Management (FAHM). Professional, Academy for Healthcare Management (PAHM). Requirements Management Certified from Rational Corporation (Bangalore) PUBLICATION AND RECOGNIZATION: The Future of RCM – Preparing for near term changes http://www.himss.org/content/files/FutureofRevenueCycleWhitePaper-EDITED5-24NV.pdf ‘Just a dose of healthcare statistics’ article, where the state of Indian healthcare vis-à-vis its economy and other markets is compared. Path: http://www.expresshealthcaremgmt.com/20040715/analysis01.shtml White Paper on HIPAA 5010', 'Skills': 'Skills/Expertise Not Found'}\n"
     ]
    }
   ],
   "source": [
    "def extract_name(text):\n",
    "    # Split into clean lines\n",
    "    lines = [l.strip() for l in text.splitlines() if l.strip()]\n",
    "    \n",
    "    # --- Heuristic 1: Look for first line that looks like a name ---\n",
    "    for line in lines:\n",
    "        # Skip lines that look like emails, addresses, or contain digits\n",
    "        if \"@\" in line or re.search(r\"\\d\", line):\n",
    "            continue\n",
    "        # Capture up to comma, allow middle initials\n",
    "        m = re.match(r'^([A-Z][a-z]+(?: [A-Z]\\.?)?(?: [A-Z][a-z]+){1,2})(?:,.*)?$', line)\n",
    "        if m:\n",
    "            return m.group(1)   # return only the name part before comma\n",
    "    \n",
    "    # --- Heuristic 2: Line before email ---\n",
    "    for i, line in enumerate(lines):\n",
    "        if \"@\" in line and i > 0:\n",
    "            candidate = re.sub(r',.*', '', lines[i-1]).strip()\n",
    "            # Validate candidate looks like a name\n",
    "            if re.match(r'^[A-Z][a-z]+(?: [A-Z]\\.?)?(?: [A-Z][a-z]+){1,2}$', candidate):\n",
    "                return candidate\n",
    "    \n",
    "    return \"Name not found\"\n",
    "\n",
    "def extract_fields(text):\n",
    "    result = {}\n",
    "\n",
    "    # Name\n",
    "    result['Name'] = extract_name(text)\n",
    "\n",
    "    # Email\n",
    "    email_match = re.search(r'[\\w\\.-]+@[\\w\\.-]+', normalize_text(text))\n",
    "    result['Email'] = email_match.group(0).strip() if email_match else None\n",
    "\n",
    "    # Phone (common patterns)\n",
    "    phone_match = re.search(r'(\\+?\\d[\\d\\s\\-\\(\\)]{7,}\\d)', normalize_text(text))\n",
    "    if not phone_match:\n",
    "        result['Phone'] = \"Phone # not found\"\n",
    "    else:\n",
    "        # Keep only digits\n",
    "        digits = re.sub(r'\\D', '', phone_match.group())\n",
    "        \n",
    "        # Standardize to XXX-XXX-XXXX (US style) if 10 digits\n",
    "        if len(digits) == 10:\n",
    "            result['Phone'] = f\"{digits[0:3]}-{digits[3:6]}-{digits[6:]}\"\n",
    "        elif len(digits) == 11 and digits.startswith(\"1\"):  # e.g., 1XXXXXXXXXX\n",
    "            result['Phone'] =  f\"{digits[1:4]}-{digits[4:7]}-{digits[7:]}\"\n",
    "        else:\n",
    "            result['Phone'] =  digits  # fallback (just return digits if not standard length)\n",
    "\n",
    "    # Education\n",
    "\n",
    "    pattern = re.compile(\n",
    "    r'education\\b.*?(?=(skills|employment|experience|credentials|tools|community|$))',\n",
    "    re.IGNORECASE | re.DOTALL\n",
    ")\n",
    "\n",
    "    edu_match = pattern.search(normalize_text(text))\n",
    "\n",
    "    if edu_match:\n",
    "        edu_text = edu_match.group(0)\n",
    "        # Clean header (remove \"education\" and trailing symbols like +, /, -)\n",
    "        edu_text_clean = re.sub(r'^education\\b[\\s\\+\\-/]*', '', edu_text.strip(), flags=re.IGNORECASE)\n",
    "    \n",
    "    result['Education'] = edu_text_clean.strip() if edu_match else None\n",
    "\n",
    "    # Skills\n",
    "    skills_matches = re.findall(\n",
    "    r'(skills(?: & certifications)?|expertise|strengths)\\s*[:\\-]?\\s*(.*?)(?=\\s*(education|employment|experience|work experience|$))',\n",
    "    normalize_text(text), re.IGNORECASE | re.DOTALL)\n",
    "    \n",
    "    # Combine all matched sections into one string\n",
    "    if skills_matches:\n",
    "        combined_skills = \" \".join([m[1].strip() for m in skills_matches])\n",
    "        result['Skills'] = combined_skills\n",
    "    else:\n",
    "        result['Skills'] = \"Skills/Expertise Not Found\"\n",
    "    \n",
    "    return result\n",
    "    \n",
    "fields = extract_fields(raw_text)\n",
    "print(fields)"
   ]
  },
  {
   "cell_type": "code",
   "execution_count": 41,
   "id": "c4883728-6bca-4e7a-a7c0-97783bf01d77",
   "metadata": {},
   "outputs": [],
   "source": [
    "## Convert into structured format"
   ]
  },
  {
   "cell_type": "code",
   "execution_count": 113,
   "id": "3c5d5a92-8744-4fb2-a016-6981f2c2e03f",
   "metadata": {},
   "outputs": [],
   "source": [
    "import json\n",
    "\n",
    "with open(\"out/resume_data.json\", \"w\") as f:\n",
    "    json.dump(fields, f, indent=2)"
   ]
  },
  {
   "cell_type": "code",
   "execution_count": 4,
   "id": "f5f02261-3599-4679-9e57-015dbde0c357",
   "metadata": {},
   "outputs": [],
   "source": [
    "## Apply to multiple resumes"
   ]
  },
  {
   "cell_type": "code",
   "execution_count": 20,
   "id": "b33e5ad5-6abf-4879-b9c0-b2a2e708f6b5",
   "metadata": {},
   "outputs": [],
   "source": [
    "import glob\n",
    "import pandas as pd\n",
    "\n",
    "def process_resumes(folder_path):\n",
    "    data = []\n",
    "    for file in glob.glob(folder_path + \"/*.pdf\"):\n",
    "        text = extract_text_from_pdf(file)\n",
    "        clean = normalize_text(text)\n",
    "        fields = extract_fields(text)\n",
    "        fields['File'] = file\n",
    "        data.append(fields)\n",
    "    return data\n",
    "\n",
    "results = process_resumes(\"Data\")"
   ]
  },
  {
   "cell_type": "code",
   "execution_count": 5,
   "id": "eede4540-71d6-48f2-a938-62e8f60cb46e",
   "metadata": {},
   "outputs": [],
   "source": [
    "## save the results to a .csv file"
   ]
  },
  {
   "cell_type": "code",
   "execution_count": 21,
   "id": "ce1a37a9-e27c-4940-8b1f-2870c96e6272",
   "metadata": {},
   "outputs": [],
   "source": [
    "df = pd.DataFrame(results)\n",
    "df.to_csv(\"Out/resumes_extracted.csv\", index=False)"
   ]
  },
  {
   "cell_type": "code",
   "execution_count": null,
   "id": "c37dcf1b-072f-4d42-9d2c-8d3290ece7be",
   "metadata": {},
   "outputs": [],
   "source": []
  }
 ],
 "metadata": {
  "kernelspec": {
   "display_name": "Python 3 (ipykernel)",
   "language": "python",
   "name": "python3"
  },
  "language_info": {
   "codemirror_mode": {
    "name": "ipython",
    "version": 3
   },
   "file_extension": ".py",
   "mimetype": "text/x-python",
   "name": "python",
   "nbconvert_exporter": "python",
   "pygments_lexer": "ipython3",
   "version": "3.13.6"
  }
 },
 "nbformat": 4,
 "nbformat_minor": 5
}
