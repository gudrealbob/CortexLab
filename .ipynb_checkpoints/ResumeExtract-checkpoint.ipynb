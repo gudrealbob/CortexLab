{
 "cells": [
  {
   "cell_type": "markdown",
   "id": "b5965e61-64db-4ff6-8928-18343c396949",
   "metadata": {},
   "source": [
    "# Resume Data Extraction\n",
    "Authered By : Ashish Dubey"
   ]
  },
  {
   "cell_type": "markdown",
   "id": "9ba24f4f-03f7-4df6-b14a-e0363b90c3ba",
   "metadata": {},
   "source": [
    "# extract raw text"
   ]
  },
  {
   "cell_type": "code",
   "execution_count": 4,
   "id": "fa744c5e-9e1b-4499-b460-6aa7ad5e3f3f",
   "metadata": {},
   "outputs": [],
   "source": [
    "import fitz  # PyMuPDF\n",
    "\n",
    "def extract_text_from_pdf(pdf_path):\n",
    "    with fitz.open(pdf_path) as doc:\n",
    "        text = \"\"\n",
    "        for page in doc:\n",
    "            text += page.get_text()\n",
    "    return text"
   ]
  },
  {
   "cell_type": "markdown",
   "id": "e4b316b3-fa49-4a17-8c20-a11a7ea56f6b",
   "metadata": {},
   "source": [
    "## Normalize the extracted text"
   ]
  },
  {
   "cell_type": "code",
   "execution_count": 5,
   "id": "c317ba4f-2334-4093-bf27-aa014045b8e3",
   "metadata": {},
   "outputs": [],
   "source": [
    "import re\n",
    "\n",
    "def normalize_text(text):\n",
    "    # Remove multiple spaces and line breaks\n",
    "    text = re.sub(r'[\\uf0b7•·▪◦●■□♦➤▶►\\s]+', ' ', text)\n",
    "    return text.strip()"
   ]
  },
  {
   "cell_type": "markdown",
   "id": "444800dd-785d-4af4-959f-687f28a06d19",
   "metadata": {},
   "source": [
    "## Extract Fields"
   ]
  },
  {
   "cell_type": "code",
   "execution_count": 6,
   "id": "2bad0bdb-c029-4d8a-be97-f8625532c3b3",
   "metadata": {},
   "outputs": [],
   "source": [
    "def extract_name(text):\n",
    "    # Split into clean lines\n",
    "    lines = [l.strip() for l in text.splitlines() if l.strip()]\n",
    "    \n",
    "    # --- Heuristic 1: Look for first line that looks like a name ---\n",
    "    for line in lines:\n",
    "        # Skip lines that look like emails, addresses, or contain digits\n",
    "        if \"@\" in line or re.search(r\"\\d\", line):\n",
    "            continue\n",
    "        # Capture up to comma, allow middle initials\n",
    "        m = re.match(r'^([A-Z][a-z]+(?: [A-Z]\\.?)?(?: [A-Z][a-z]+){1,2})(?:,.*)?$', line)\n",
    "        if m:\n",
    "            return m.group(1)   # return only the name part before comma\n",
    "    \n",
    "    # --- Heuristic 2: Line before email ---\n",
    "    for i, line in enumerate(lines):\n",
    "        if \"@\" in line and i > 0:\n",
    "            candidate = re.sub(r',.*', '', lines[i-1]).strip()\n",
    "            # Validate candidate looks like a name\n",
    "            if re.match(r'^[A-Z][a-z]+(?: [A-Z]\\.?)?(?: [A-Z][a-z]+){1,2}$', candidate):\n",
    "                return candidate\n",
    "    \n",
    "    return \"Name not found\"\n",
    "\n",
    "def extract_fields(text):\n",
    "    result = {}\n",
    "\n",
    "    # Name\n",
    "    result['Name'] = extract_name(text)\n",
    "\n",
    "    # Email\n",
    "    email_match = re.search(r'[\\w\\.-]+@[\\w\\.-]+', normalize_text(text))\n",
    "    result['Email'] = email_match.group(0).strip() if email_match else None\n",
    "\n",
    "    # Phone (common patterns)\n",
    "    phone_match = re.search(r'(\\+?\\d[\\d\\s\\-\\(\\)]{7,}\\d)', normalize_text(text))\n",
    "    if not phone_match:\n",
    "        result['Phone'] = \"Phone # not found\"\n",
    "    else:\n",
    "        # Keep only digits\n",
    "        digits = re.sub(r'\\D', '', phone_match.group())\n",
    "        \n",
    "        # Standardize to XXX-XXX-XXXX (US style) if 10 digits\n",
    "        if len(digits) == 10:\n",
    "            result['Phone'] = f\"{digits[0:3]}-{digits[3:6]}-{digits[6:]}\"\n",
    "        elif len(digits) == 11 and digits.startswith(\"1\"):  # e.g., 1XXXXXXXXXX\n",
    "            result['Phone'] =  f\"{digits[1:4]}-{digits[4:7]}-{digits[7:]}\"\n",
    "        else:\n",
    "            result['Phone'] =  digits  # fallback (just return digits if not standard length)\n",
    "\n",
    "    # Education\n",
    "\n",
    "    pattern = re.compile(\n",
    "    r'education\\b.*?(?=(skills|employment|experience|credentials|tools|community|$))',re.IGNORECASE | re.DOTALL)\n",
    "\n",
    "    edu_match = pattern.search(normalize_text(text))\n",
    "\n",
    "    if edu_match:\n",
    "        edu_text = edu_match.group(0)\n",
    "        # Clean header (remove \"education\" and trailing symbols like +, /, -)\n",
    "        edu_text_clean = re.sub(r'^education\\b[\\s\\+\\-/]*', '', edu_text.strip(), flags=re.IGNORECASE)\n",
    "    \n",
    "    result['Education'] = edu_text_clean.strip() if edu_match else None\n",
    "\n",
    "    # Skills\n",
    "    skills_matches = re.findall(\n",
    "    r'(skills(?: & certifications)?|expertise|strengths)\\s*[:\\-]?\\s*(.*?)(?=\\s*(education|employment|experience|work experience|$))',\n",
    "    normalize_text(text), re.IGNORECASE | re.DOTALL)\n",
    "    \n",
    "    # Combine all matched sections into one string\n",
    "    if skills_matches:\n",
    "        combined_skills = \" \".join([m[1].strip() for m in skills_matches])\n",
    "        result['Skills'] = combined_skills\n",
    "    else:\n",
    "        result['Skills'] = \"Skills/Expertise Not Found\"\n",
    "    \n",
    "    return result"
   ]
  },
  {
   "cell_type": "code",
   "execution_count": 4,
   "id": "f5f02261-3599-4679-9e57-015dbde0c357",
   "metadata": {},
   "outputs": [],
   "source": [
    "## Apply to multiple resumes"
   ]
  },
  {
   "cell_type": "code",
   "execution_count": 7,
   "id": "b33e5ad5-6abf-4879-b9c0-b2a2e708f6b5",
   "metadata": {},
   "outputs": [],
   "source": [
    "import glob\n",
    "import pandas as pd\n",
    "\n",
    "def process_resumes(folder_path):\n",
    "    data = []\n",
    "    for file in glob.glob(folder_path + \"/*.pdf\"):\n",
    "        text = extract_text_from_pdf(file)\n",
    "        fields = extract_fields(text)\n",
    "        fields['File'] = file\n",
    "        data.append(fields)\n",
    "    return data\n",
    "\n",
    "results = process_resumes(\"Data\")\n",
    "\n",
    "## save the results to a .csv file\n",
    "\n",
    "df = pd.DataFrame(results)\n",
    "df.to_csv(\"Out/resumes_extracted.csv\", index=False)"
   ]
  },
  {
   "cell_type": "code",
   "execution_count": null,
   "id": "f09c2d48-f152-42f2-abd3-ad14fff878ac",
   "metadata": {},
   "outputs": [],
   "source": []
  }
 ],
 "metadata": {
  "kernelspec": {
   "display_name": "Python 3 (ipykernel)",
   "language": "python",
   "name": "python3"
  },
  "language_info": {
   "codemirror_mode": {
    "name": "ipython",
    "version": 3
   },
   "file_extension": ".py",
   "mimetype": "text/x-python",
   "name": "python",
   "nbconvert_exporter": "python",
   "pygments_lexer": "ipython3",
   "version": "3.13.6"
  }
 },
 "nbformat": 4,
 "nbformat_minor": 5
}
