{
 "cells": [
  {
   "cell_type": "code",
   "execution_count": 1,
   "id": "5c302162-3842-498d-91aa-73add7062451",
   "metadata": {},
   "outputs": [],
   "source": [
    "# Read My project guide PDF and then clean PDF text for MD format"
   ]
  },
  {
   "cell_type": "code",
   "execution_count": 2,
   "id": "eaee0d87-e969-4812-9217-f3c65862cf29",
   "metadata": {},
   "outputs": [],
   "source": [
    "import fitz  # PyMuPDF\n",
    "from IPython.display import Markdown, display\n",
    "\n",
    "from openai import OpenAI\n",
    "from dotenv import load_dotenv\n",
    "import os\n",
    "\n",
    "def pdf_to_markdown(pdf_path: str) -> str:\n",
    "    \"\"\"Extracts text from a PDF and converts it into a markdown-style paragraph.\"\"\"\n",
    "    doc = fitz.open(pdf_path)\n",
    "    text = \"\"\n",
    "    for page in doc:\n",
    "        text += page.get_text(\"text\") + \"\\n\"\n",
    "    \n",
    "    # Clean formatting -> turn into markdown\n",
    "    lines = [line.strip() for line in text.split(\"\\n\") if line.strip()]\n",
    "    \n",
    "    md_output = \"# AI Project Guide\\n\\n\"\n",
    "    current_section = None\n",
    "    for line in lines:\n",
    "        # Detect section headers\n",
    "        if line in [\"Overview\", \"Goals\", \"Implementation\", \"Deliverables\", \"Success Criteria\"]:\n",
    "            current_section = line\n",
    "            md_output += f\"## {line}\\n\"\n",
    "        else:\n",
    "            # Treat as bullet point\n",
    "            md_output += f\"- {line}\\n\"\n",
    "\n",
    "    # Save to markdown\n",
    "    with open(\"Data/project_guide.md\", \"w\") as f:\n",
    "        f.write(text)\n",
    "    \n",
    "    return md_output.strip()\n",
    "        \n",
    "# Example usage:\n",
    "# pdf_path = \"Data/ai_project_guide_professional.pdf\"\n",
    "# markdown_text = pdf_to_markdown(pdf_path)\n",
    "\n",
    "# print(\"Ashish : 2 - \", markdown_text)  # This will give you the clean MD for prompt templates\n"
   ]
  },
  {
   "cell_type": "code",
   "execution_count": 3,
   "id": "2f283378-5286-4761-a42c-ba06a6c02bd8",
   "metadata": {},
   "outputs": [],
   "source": [
    "# import sk from .env file\n",
    "\n",
    "load_dotenv()\n",
    "\n",
    "# connect to openai API\n",
    "client = OpenAI(api_key=os.getenv(\"BOBAD_OPENAI_KEY\"))"
   ]
  },
  {
   "cell_type": "code",
   "execution_count": 4,
   "id": "c284537d-5976-48aa-80db-f71580e74c1b",
   "metadata": {},
   "outputs": [],
   "source": [
    "# Create a prompt template that uses your markdown guide as context for GPT-4o"
   ]
  },
  {
   "cell_type": "code",
   "execution_count": 5,
   "id": "bb06e2dc-c9be-43cf-be9a-c75ae15b495b",
   "metadata": {},
   "outputs": [],
   "source": [
    "# Send Project Idea to GPT-4o-mini"
   ]
  },
  {
   "cell_type": "code",
   "execution_count": 6,
   "id": "44c490fe-190b-4427-ae72-d54826218a41",
   "metadata": {},
   "outputs": [],
   "source": [
    "import openai\n",
    "\n",
    "openai.api_key = \"BOBAD_OPENAI_KEY\"\n",
    "\n",
    "def get_project_guide(idea, experience, tools, guide_text):\n",
    "    prompt = f\"\"\"\n",
    "You are an AI assistant that writes step-by-step project guides.\n",
    "Use the structure below:\n",
    "\n",
    "{guide_text}\n",
    "\n",
    "Project Idea: {idea}\n",
    "Experience Level: {experience}\n",
    "Preferred Tools: {tools}\n",
    "\n",
    "Write a markdown guide with a motivating intro and clear steps.\n",
    "\"\"\"\n",
    "    # print(\" Ashish : 1 - \" , prompt)\n",
    "\n",
    "    \n",
    "    response = client.chat.completions.create(\n",
    "        model=\"gpt-5-mini\",\n",
    "        messages=[{\"role\": \"system\", \"content\": prompt}]\n",
    "     )\n",
    "    return response.choices[0].message.content\n",
    "    "
   ]
  },
  {
   "cell_type": "code",
   "execution_count": 7,
   "id": "dbba676b-780d-4c52-9fa6-d82ed17d7b27",
   "metadata": {},
   "outputs": [],
   "source": [
    "# Build a Chat UI with Gradio"
   ]
  },
  {
   "cell_type": "code",
   "execution_count": 8,
   "id": "b55ad2b2-ad84-4ab3-b9bc-b05f96869d6d",
   "metadata": {},
   "outputs": [],
   "source": [
    "with open(\"Data/project_guide.md\", \"r\") as f:\n",
    "    guide_text = f.read()\n",
    "    # print(guide_text)\n",
    "def ai_idea_assistant(idea, experience, tools):\n",
    "    return get_project_guide(idea, experience, tools, guide_text)"
   ]
  },
  {
   "cell_type": "code",
   "execution_count": 9,
   "id": "64ed3ffb-f3f2-4b28-bdeb-7f517af833b6",
   "metadata": {},
   "outputs": [
    {
     "name": "stdout",
     "output_type": "stream",
     "text": [
      "* Running on local URL:  http://127.0.0.1:7860\n",
      "* To create a public link, set `share=True` in `launch()`.\n"
     ]
    },
    {
     "data": {
      "text/html": [
       "<div><iframe src=\"http://127.0.0.1:7860/\" width=\"100%\" height=\"500\" allow=\"autoplay; camera; microphone; clipboard-read; clipboard-write;\" frameborder=\"0\" allowfullscreen></iframe></div>"
      ],
      "text/plain": [
       "<IPython.core.display.HTML object>"
      ]
     },
     "metadata": {},
     "output_type": "display_data"
    },
    {
     "data": {
      "text/plain": []
     },
     "execution_count": 9,
     "metadata": {},
     "output_type": "execute_result"
    }
   ],
   "source": [
    "import gradio as gr\n",
    "\n",
    "iface = gr.Interface(\n",
    "    fn=ai_idea_assistant,\n",
    "    inputs=[\n",
    "        gr.Textbox(label=\"Project Idea\"),\n",
    "        gr.Dropdown([\"Beginner\", \"Intermediate\", \"Advanced\"], label=\"Experience Level\"),\n",
    "        gr.Textbox(label=\"Preferred Tools (comma-separated, optional)\")\n",
    "    ],\n",
    "    outputs=\"markdown\",\n",
    "    title=\"AI Project Idea Assistant\",\n",
    "    description=\"Describe your project idea and get a tailored, step-by-step project guide!\"\n",
    ")\n",
    "\n",
    "iface.launch()\n"
   ]
  }
 ],
 "metadata": {
  "kernelspec": {
   "display_name": "Python 3 (ipykernel)",
   "language": "python",
   "name": "python3"
  },
  "language_info": {
   "codemirror_mode": {
    "name": "ipython",
    "version": 3
   },
   "file_extension": ".py",
   "mimetype": "text/x-python",
   "name": "python",
   "nbconvert_exporter": "python",
   "pygments_lexer": "ipython3",
   "version": "3.13.6"
  }
 },
 "nbformat": 4,
 "nbformat_minor": 5
}
