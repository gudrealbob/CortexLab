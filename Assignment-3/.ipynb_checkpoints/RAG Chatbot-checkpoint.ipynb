{
 "cells": [
  {
   "cell_type": "code",
   "execution_count": 1,
   "id": "ca93b189-afa4-4bdf-aa51-b93f009c30dc",
   "metadata": {},
   "outputs": [],
   "source": [
    "# pip install llama-index llama-index-embeddings-huggingface llama-index-llms-huggingface gradio transformers torch\n",
    "\n",
    "from llama_index.core import SimpleDirectoryReader, VectorStoreIndex, Settings\n",
    "from llama_index.embeddings.huggingface import HuggingFaceEmbedding\n",
    "from llama_index.llms.huggingface import HuggingFaceLLM\n",
    "from transformers import AutoTokenizer, AutoModelForSeq2SeqLM\n",
    "\n",
    "from llama_index.core import VectorStoreIndex, get_response_synthesizer, Settings\n",
    "from llama_index.core.schema import TextNode\n",
    "from llama_index.core.retrievers import VectorIndexRetriever\n",
    "from llama_index.core.query_engine import RetrieverQueryEngine\n",
    "from llama_index.core.postprocessor import SimilarityPostprocessor\n",
    "\n",
    "import torch, gradio as gr\n",
    "\n",
    "from openai import OpenAI\n",
    "from dotenv import load_dotenv\n",
    "import os\n",
    "from IPython.display import display, Markdown\n",
    "\n",
    "# 3. Load documents\n",
    "docs = SimpleDirectoryReader(\"Data/\").load_data()\n",
    "\n"
   ]
  },
  {
   "cell_type": "code",
   "execution_count": 2,
   "id": "c9f3d3f6-7b65-46bb-a05c-7af0370d66a2",
   "metadata": {},
   "outputs": [],
   "source": [
    "# import sk from .env file\n",
    "\n",
    "load_dotenv()\n",
    "\n",
    "# connect to openai API\n",
    "client = OpenAI(api_key=os.getenv(\"BOBAD_OPENAI_KEY\"))"
   ]
  },
  {
   "cell_type": "code",
   "execution_count": 3,
   "id": "6a8b7287-a059-430a-81ea-2027ae7311b3",
   "metadata": {},
   "outputs": [
    {
     "name": "stdout",
     "output_type": "stream",
     "text": [
      "Embedding Model: text-embedding-ada-002\n",
      "Index Size: 20\n",
      "First embedding shape: 1536\n"
     ]
    }
   ],
   "source": [
    "# 4. Build index\n",
    "index = VectorStoreIndex.from_documents(docs)\n",
    "\n",
    "print(f\"Embedding Model: {index._embed_model.model_name}\")\n",
    "print(f\"Index Size: {len(index.vector_store.data.embedding_dict)}\")\n",
    "first_key = list(index.vector_store.data.embedding_dict.keys())[0]\n",
    "first_embedding = index.vector_store.data.embedding_dict[first_key]\n",
    "print(f\"First embedding shape: {len(first_embedding)}\")\n",
    "\n"
   ]
  },
  {
   "cell_type": "code",
   "execution_count": 5,
   "id": "5f551de4-2e1c-4929-bbc0-4a7aae67b119",
   "metadata": {},
   "outputs": [],
   "source": [
    "# configure retriever\n",
    "retriever = VectorIndexRetriever(\n",
    "    index=index,\n",
    "    similarity_top_k=10,\n",
    ")"
   ]
  },
  {
   "cell_type": "code",
   "execution_count": 6,
   "id": "cfed8063-2f51-4cd9-9abb-029e4e1cde0e",
   "metadata": {},
   "outputs": [],
   "source": [
    "results = retriever.retrieve(\"what is Domain Driven Design?\")"
   ]
  },
  {
   "cell_type": "code",
   "execution_count": 12,
   "id": "04c2c909-f813-4fea-b929-072c3fff9070",
   "metadata": {},
   "outputs": [],
   "source": [
    "# format results in markdown\n",
    "results_markdown = \"\"\n",
    "for i, result in enumerate(results, start=1):\n",
    "    doc = result.node  # Access the Document inside NodeWithScore\n",
    "    text_snippet = doc.text_resource.text  # Extract text\n",
    "    metadata = doc.metadata  # Extract metadata dictionary\n",
    "\n",
    "    # Example: get file_name or page_label safely\n",
    "    file_name = metadata.get(\"file_name\", \"N/A\")\n",
    "    page_label = metadata.get(\"page_label\", \"N/A\")\n",
    "\n",
    "    results_markdown += f\"{i}. **File:** {file_name}  \\n\"\n",
    "    results_markdown += f\"   **Page:** {page_label}  \\n\"\n",
    "    results_markdown += f\"   **Snippet:** {text_snippet[:500]}...  \\n\\n\"  # Limit snippet to first 500 chars\n"
   ]
  },
  {
   "cell_type": "code",
   "execution_count": 13,
   "id": "80ea3c04-833d-428c-8abb-fdefe8b1cbb4",
   "metadata": {},
   "outputs": [
    {
     "data": {
      "text/markdown": [
       "1. **File:** A Crash Course on Domain-Driven Design.pdf  \n",
       "   **Page:** 1  \n",
       "   **Snippet:** A Crash Course on Domain-Driven Design\n",
       "AUG 01, 2024\n",
       "1 21 Share\n",
       "Developing so\u0000ware for complex domains is a challenging task. \n",
       "As the complexity of the problem domain grows, it becomes increasingly di\u0000cult to create\n",
       "so\u0000ware that accurately represents the business concepts, rules, and processes. Poorly designed\n",
       "so\u0000ware can quickly turn into an incomprehensible tangle of code that is di\u0000cult to understand,\n",
       "maintain, and extend.\n",
       "Domain-Driven Design (DDD) o\u0000ers a solution to this problem.\n",
       "DDD is an ...  \n",
       "\n",
       "2. **File:** A Crash Course on Domain-Driven Design.pdf  \n",
       "   **Page:** 19  \n",
       "   **Snippet:** DDD focuses on creating a rich domain model that re\u0000ects a deep understanding of the\n",
       "business domain. The domain model is based on input from domain experts and serves as a\n",
       "conceptual framework for the so\u0000ware.\n",
       "A ubiquitous language is cultivated based on the domain model. This language is used\n",
       "consistently by developers and domain experts in all communication - in conversations,\n",
       "documentation, and the code itself. Using the ubiquitous language helps keep the model\n",
       "and implementation aligned.\n",
       "Th...  \n",
       "\n",
       "3. **File:** A Crash Course on Domain-Driven Design.pdf  \n",
       "   **Page:** 2  \n",
       "   **Snippet:** Domain-Driven Design (DDD) focuses on creating so\u0000ware systems that closely align with the\n",
       "underlying business domain. \n",
       "It aims to bridge the gap between the technical implementation and the business requirements\n",
       "by placing the domain model at the center of the development process.\n",
       "Core Principles of Domain-Driven Design...  \n",
       "\n",
       "4. **File:** A Crash Course on Domain-Driven Design.pdf  \n",
       "   **Page:** 5  \n",
       "   **Snippet:** In DDD, the domain model is not just a conceptual tool. It is the very foundation of the so\u0000ware\n",
       "design. The structure and behavior of the so\u0000ware mirror the structure and behavior of the\n",
       "model. \n",
       "This approach is known as model-driven design.\n",
       "In practice, it means that the classes, relationships, and behaviors in the code directly\n",
       "correspond to the concepts, relationships, and rules in the domain model. The design is not\n",
       "driven by technical concerns or infrastructure details but by the need to e...  \n",
       "\n",
       "5. **File:** A Crash Course on Domain-Driven Design.pdf  \n",
       "   **Page:** 14  \n",
       "   **Snippet:** Factories ensure that the objects they create are always in a consistent and fully initialized\n",
       "state.\n",
       "For example, an “OrderFactory” in an e-commerce system can take all the necessary details\n",
       "(customer, items, quantities, etc.), create the “Order” and “LineItem” instances, link them\n",
       "together appropriately, and return the resulting Order aggregate to the client.\n",
       "When dealing with large models in big projects, some strategic design concepts should be\n",
       "followed to gain the bene\u0000ts of domain-driven d...  \n",
       "\n",
       "6. **File:** A Crash Course on Domain-Driven Design.pdf  \n",
       "   **Page:** 3  \n",
       "   **Snippet:** There are three core principles of DDD:\n",
       "Creating a rich domain model based on input from domain experts\n",
       "Using a ubiquitous language based on the domain model\n",
       "Driving the design of the so\u0000ware from the domain model\n",
       "Let's explore each of these principles in more detail.\n",
       "The foundation of DDD lies in the creation of a rich domain model that accurately captures the\n",
       "key concepts, relationships, and business rules of the problem domain. This model is not created\n",
       "in isolation by the development team bu...  \n",
       "\n",
       "7. **File:** A Crash Course on Domain-Driven Design.pdf  \n",
       "   **Page:** 20  \n",
       "   **Snippet:** It would be even better if you included Domain Events as a part of tactical DDD components or\n",
       "patterns. Though it's a newer concept it still plays a crucial role in the domain model when raising\n",
       "business logic events in event-driven systems.\n",
       "LIKE (5) REPLY SHARE\n",
       "© 2024ByteByteGo ∙ Privacy ∙ Terms ∙ Collection notice\n",
       "Substackis the home for great culture...  \n",
       "\n",
       "8. **File:** A Crash Course on Domain-Driven Design.pdf  \n",
       "   **Page:** 7  \n",
       "   **Snippet:** persistence, messaging, logging, and other technical services. \n",
       "For example, in an e-commerce system, the Domain Layer would contain core business concepts\n",
       "like Product, Order, and Customer. The UI Layer would have screens for product display,\n",
       "shopping cart, and checkout. The Application Layer would handle the \u0000ow of the order\n",
       "placement process. The Infrastructure Layer would provide functionalities like persistence,\n",
       "messaging, etc.\n",
       "In Domain-Driven Design (DDD), an entity is a fundamental conce...  \n",
       "\n",
       "9. **File:** A Crash Course on Domain-Driven Design.pdf  \n",
       "   **Page:** 6  \n",
       "   **Snippet:** Typically, a layered architecture consists of four main layers:\n",
       "User Interface (Presentation) Layer: This layer is responsible for presenting information to\n",
       "the user and interpreting user commands. It communicates with the Application Layer to\n",
       "send user requests and receive responses.\n",
       "Application Layer: The Application Layer coordinates the overall application activity and\n",
       "orchestrates the data \u0000ow between the UI and the Domain Layer. It does not contain\n",
       "business logic but delegates it to the Do...  \n",
       "\n",
       "10. **File:** A Crash Course on Domain-Driven Design.pdf  \n",
       "   **Page:** 13  \n",
       "   **Snippet:** These methods allow the client code to interact with the “CustomerRepository” in a way that\n",
       "mimics a collection of “Customer” objects. \n",
       "The client can add, remove, and query customers without worrying about how the data is stored\n",
       "in the database. Behind the scenes, the repository may use an ORM tool, SQL query, or any other\n",
       "persistence mechanism to interact with the underlying storage system.\n",
       "In domain-driven design, a factory is a pattern that encapsulates the creation of complex entities\n",
       "or ag...  \n",
       "\n"
      ],
      "text/plain": [
       "<IPython.core.display.Markdown object>"
      ]
     },
     "metadata": {},
     "output_type": "display_data"
    }
   ],
   "source": [
    "display(Markdown(results_markdown))"
   ]
  },
  {
   "cell_type": "code",
   "execution_count": 14,
   "id": "f432fbcc-8028-4200-a5fd-8239a76610a4",
   "metadata": {},
   "outputs": [],
   "source": [
    "# configure response synthesizer\n",
    "response_synthesizer = get_response_synthesizer()"
   ]
  },
  {
   "cell_type": "code",
   "execution_count": 15,
   "id": "89e56071-5748-483d-b2ad-2c37bc8bbd85",
   "metadata": {},
   "outputs": [],
   "source": [
    "# assemble query engine\n",
    "query_engine = RetrieverQueryEngine(\n",
    "    retriever=retriever,\n",
    "    response_synthesizer=response_synthesizer,\n",
    "    node_postprocessors=[SimilarityPostprocessor(similarity_cutoff=0.7)],\n",
    ")"
   ]
  },
  {
   "cell_type": "code",
   "execution_count": 16,
   "id": "3a58d29e-8ba5-472d-b0a0-469516ce9de0",
   "metadata": {},
   "outputs": [
    {
     "name": "stdout",
     "output_type": "stream",
     "text": [
      "Domain-Driven Design (DDD) is an approach to software development that focuses on modeling the core domain and business logic to create software systems that closely align with the underlying business domain. It emphasizes the importance of creating a rich domain model based on input from domain experts, using a ubiquitous language for communication, and driving the software design from the domain model rather than technical concerns. DDD aims to manage complexity by isolating the domain layer from infrastructure and user interface concerns, utilizing patterns such as entities, value objects, services, aggregates, repositories, and factories to build maintainable and extensible systems.\n"
     ]
    }
   ],
   "source": [
    "response = query_engine.query(\"what is Domain-Driven Design ?\")\n",
    "print(response)\n"
   ]
  },
  {
   "cell_type": "code",
   "execution_count": 21,
   "id": "9c90c145-3108-4a8e-ba35-81b6404d6af0",
   "metadata": {},
   "outputs": [
    {
     "name": "stdout",
     "output_type": "stream",
     "text": [
      "* Running on local URL:  http://127.0.0.1:7860\n",
      "* To create a public link, set `share=True` in `launch()`.\n"
     ]
    },
    {
     "data": {
      "text/html": [
       "<div><iframe src=\"http://127.0.0.1:7860/\" width=\"100%\" height=\"500\" allow=\"autoplay; camera; microphone; clipboard-read; clipboard-write;\" frameborder=\"0\" allowfullscreen></iframe></div>"
      ],
      "text/plain": [
       "<IPython.core.display.HTML object>"
      ]
     },
     "metadata": {},
     "output_type": "display_data"
    },
    {
     "data": {
      "text/plain": []
     },
     "execution_count": 21,
     "metadata": {},
     "output_type": "execute_result"
    }
   ],
   "source": [
    "# 6. Gradio UI\n",
    "def rag_chat(user_input: str) -> str:\n",
    "    return str(query_engine.query(user_input))\n",
    "\n",
    "iface = gr.Interface(\n",
    "    fn=rag_chat,\n",
    "    inputs=\"text\",\n",
    "    outputs=\"text\",\n",
    "    title=\"📚 Offline RAG Chatbot\",\n",
    "    description=\"Ask questions about your local documents (embeddings + LLM are 100% local).\"\n",
    ")\n",
    "\n",
    "iface.launch()"
   ]
  },
  {
   "cell_type": "code",
   "execution_count": null,
   "id": "cd0a58ae-10f5-41a3-ad2e-d5486632b741",
   "metadata": {},
   "outputs": [],
   "source": []
  }
 ],
 "metadata": {
  "kernelspec": {
   "display_name": "Python 3 (ipykernel)",
   "language": "python",
   "name": "python3"
  },
  "language_info": {
   "codemirror_mode": {
    "name": "ipython",
    "version": 3
   },
   "file_extension": ".py",
   "mimetype": "text/x-python",
   "name": "python",
   "nbconvert_exporter": "python",
   "pygments_lexer": "ipython3",
   "version": "3.13.6"
  }
 },
 "nbformat": 4,
 "nbformat_minor": 5
}
