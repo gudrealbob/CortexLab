{
 "cells": [
  {
   "cell_type": "markdown",
   "id": "0e425737",
   "metadata": {},
   "source": [
    "## 📂 Data Loading"
   ]
  },
  {
   "cell_type": "code",
   "execution_count": 33,
   "id": "ca93b189-afa4-4bdf-aa51-b93f009c30dc",
   "metadata": {},
   "outputs": [],
   "source": [
    "# pip install llama-index llama-index-embeddings-huggingface llama-index-llms-huggingface gradio transformers torch\n",
    "\n",
    "from llama_index.core import SimpleDirectoryReader, VectorStoreIndex, Settings, get_response_synthesizer\n",
    "from llama_index.core.schema import  TextNode\n",
    "from llama_index.core.retrievers import  VectorIndexRetriever\n",
    "from llama_index.core.query_engine import  RetrieverQueryEngine\n",
    "from llama_index.core.postprocessor import  SimilarityPostprocessor\n",
    "\n",
    "from openai import  OpenAI\n",
    "from dotenv import  load_dotenv\n",
    "import  os\n",
    "from IPython.display import display, Markdown\n",
    "import torch, gradio as gr\n",
    "\n",
    "# 3. Load documents\n",
    "docs = SimpleDirectoryReader(\"Data/\").load_data()"
   ]
  },
  {
   "cell_type": "markdown",
   "id": "bf9ba045",
   "metadata": {},
   "source": [
    "## 📂 Data Loading"
   ]
  },
  {
   "cell_type": "code",
   "execution_count": 15,
   "id": "c9f3d3f6-7b65-46bb-a05c-7af0370d66a2",
   "metadata": {},
   "outputs": [],
   "source": [
    "# import  sk from .env file\n",
    "\n",
    "load_dotenv()\n",
    "\n",
    "# connect to openai API\n",
    "client = OpenAI(api_key=os.getenv(\"BOBAD_OPENAI_KEY\"))"
   ]
  },
  {
   "cell_type": "markdown",
   "id": "aa2e6bec",
   "metadata": {},
   "source": [
    "## 🔎 Embedding & Vectorization"
   ]
  },
  {
   "cell_type": "code",
   "execution_count": 16,
   "id": "6a8b7287-a059-430a-81ea-2027ae7311b3",
   "metadata": {},
   "outputs": [
    {
     "name": "stdout",
     "output_type": "stream",
     "text": [
      "Embedding Model: text-embedding-ada-002\n",
      "Index Size: 20\n",
      "First embedding shape: 1536\n"
     ]
    }
   ],
   "source": [
    "# 4. Build index\n",
    "index = VectorStoreIndex.from_documents(docs)\n",
    "\n",
    "print(f\"Embedding Model: {index._embed_model.model_name}\")\n",
    "print(f\"Index Size: {len(index.vector_store.data.embedding_dict)}\")\n",
    "first_key = list(index.vector_store.data.embedding_dict.keys())[0]\n",
    "first_embedding = index.vector_store.data.embedding_dict[first_key]\n",
    "print(f\"First embedding shape: {len(first_embedding)}\")"
   ]
  },
  {
   "cell_type": "markdown",
   "id": "577f43f5",
   "metadata": {},
   "source": [
    "## 📊 Similarity Computation"
   ]
  },
  {
   "cell_type": "code",
   "execution_count": 17,
   "id": "5f551de4-2e1c-4929-bbc0-4a7aae67b119",
   "metadata": {},
   "outputs": [],
   "source": [
    "# configure retriever\n",
    "retriever = VectorIndexRetriever(\n",
    "    index=index,\n",
    "    similarity_top_k=10,\n",
    ")"
   ]
  },
  {
   "cell_type": "code",
   "execution_count": 18,
   "id": "cfed8063-2f51-4cd9-9abb-029e4e1cde0e",
   "metadata": {},
   "outputs": [],
   "source": [
    "results = retriever.retrieve(\"what is Domain Driven Design?\")"
   ]
  },
  {
   "cell_type": "code",
   "execution_count": 20,
   "id": "30d576fc-3160-4863-a4bf-2a632ad2cf04",
   "metadata": {},
   "outputs": [
    {
     "data": {
      "text/plain": [
       "[NodeWithScore(node=TextNode(id_='1a680426-d4f0-4ef8-b633-37565e519df2', embedding=None, metadata={'page_label': '1', 'file_name': 'A Crash Course on Domain-Driven Design.pdf', 'file_path': '/Users/dubeys/Documents/ABB/CortexLab/Assignment-3/Data/A Crash Course on Domain-Driven Design.pdf', 'file_type': 'application/pdf', 'file_size': 4062016, 'creation_date': '2024-10-08', 'last_modified_date': '2024-10-08'}, excluded_embed_metadata_keys=['file_name', 'file_type', 'file_size', 'creation_date', 'last_modified_date', 'last_accessed_date'], excluded_llm_metadata_keys=['file_name', 'file_type', 'file_size', 'creation_date', 'last_modified_date', 'last_accessed_date'], relationships={<NodeRelationship.SOURCE: '1'>: RelatedNodeInfo(node_id='ef8ff1e7-b819-4602-873f-6c6f436233c5', node_type='4', metadata={'page_label': '1', 'file_name': 'A Crash Course on Domain-Driven Design.pdf', 'file_path': '/Users/dubeys/Documents/ABB/CortexLab/Assignment-3/Data/A Crash Course on Domain-Driven Design.pdf', 'file_type': 'application/pdf', 'file_size': 4062016, 'creation_date': '2024-10-08', 'last_modified_date': '2024-10-08'}, hash='f45e377ddd312f233d752c9b6de1c71ab8716327fa6fd2a1c7cbbf3a4fa21b6d')}, metadata_template='{key}: {value}', metadata_separator='\\n', text='A Crash Course on Domain-Driven Design\\nAUG 01, 2024\\n1 21 Share\\nDeveloping so\\x00ware for complex domains is a challenging task.\\xa0\\nAs the complexity of the problem domain grows, it becomes increasingly di\\x00cult to create\\nso\\x00ware that accurately represents the business concepts, rules, and processes. Poorly designed\\nso\\x00ware can quickly turn into an incomprehensible tangle of code that is di\\x00cult to understand,\\nmaintain, and extend.\\nDomain-Driven Design (DDD) o\\x00ers a solution to this problem.\\nDDD is an approach to so\\x00ware development that tackles domain complexity by emphasizing\\nthe importance of modeling the core domain and business logic and using those models as the\\nfoundation for so\\x00ware design.\\nAt its heart, Domain-Driven Design is about:\\nPlacing the primary focus on the core domain.\\nBasing complex designs on a model of the domain\\nBuilding collaboration between technical and domain experts.\\nThe need for Domain-Driven Design has become more pressing in recent years. Architectures\\nbased on microservices and cloud computing have resulted in systems composed of numerous\\nsmall components that interact in intricate ways. Without a clear and well-de\\x00ned model of the\\ndomain guiding their design, such systems can quickly become a \"big ball of mud\".\\xa0\\nIn this article, we’ll understand the basics of Domain-Driven Design and its key concepts that\\ncan help us build more maintainable and extensible systems that are aligned with the core\\ndomain and business logic.\\nBYTEBYTEGO\\n319', mimetype='text/plain', start_char_idx=0, end_char_idx=1484, metadata_seperator='\\n', text_template='{metadata_str}\\n\\n{content}'), score=0.8849592743704404),\n",
       " NodeWithScore(node=TextNode(id_='80141989-a222-468e-baa8-c7ec0b5872d4', embedding=None, metadata={'page_label': '19', 'file_name': 'A Crash Course on Domain-Driven Design.pdf', 'file_path': '/Users/dubeys/Documents/ABB/CortexLab/Assignment-3/Data/A Crash Course on Domain-Driven Design.pdf', 'file_type': 'application/pdf', 'file_size': 4062016, 'creation_date': '2024-10-08', 'last_modified_date': '2024-10-08'}, excluded_embed_metadata_keys=['file_name', 'file_type', 'file_size', 'creation_date', 'last_modified_date', 'last_accessed_date'], excluded_llm_metadata_keys=['file_name', 'file_type', 'file_size', 'creation_date', 'last_modified_date', 'last_accessed_date'], relationships={<NodeRelationship.SOURCE: '1'>: RelatedNodeInfo(node_id='a5f1d8c1-6f40-4489-968d-05c9038350ad', node_type='4', metadata={'page_label': '19', 'file_name': 'A Crash Course on Domain-Driven Design.pdf', 'file_path': '/Users/dubeys/Documents/ABB/CortexLab/Assignment-3/Data/A Crash Course on Domain-Driven Design.pdf', 'file_type': 'application/pdf', 'file_size': 4062016, 'creation_date': '2024-10-08', 'last_modified_date': '2024-10-08'}, hash='c2967f4f9dfe6f9e82949b01eac60667e4b733e6223bb325c4ea5a0c3092e561')}, metadata_template='{key}: {value}', metadata_separator='\\n', text='DDD focuses on creating a rich domain model that re\\x00ects a deep understanding of the\\nbusiness domain. The domain model is based on input from domain experts and serves as a\\nconceptual framework for the so\\x00ware.\\nA ubiquitous language is cultivated based on the domain model. This language is used\\nconsistently by developers and domain experts in all communication - in conversations,\\ndocumentation, and the code itself. Using the ubiquitous language helps keep the model\\nand implementation aligned.\\nThe so\\x00ware design is driven by the domain model, rather than technical concerns. This is\\ncalled model-driven design.\\nDDD manages complexity by isolating the domain layer from infrastructure and user\\ninterface concerns and dividing large models into Bounded Contexts.\\nTo build a domain model, DDD utilizes several patterns such as layered architecture,\\nentities, value objects, services, aggregates, repositories, and factories.\\nFor more complex domains, strategic design patterns like bounded contexts are leveraged.\\xa0\\nTo manage relationships between multiple Bounded Contexts, techniques like context\\nmaps, shared kernels, and anticorruption layers are used.\\n319 Likes·21 Restacks\\nDiscussion about this post\\nComments Restacks\\nWrite a comment...\\nRuslanAug 26\\nThank you for the great overview of the Domain-Driven Design concepts!', mimetype='text/plain', start_char_idx=0, end_char_idx=1327, metadata_seperator='\\n', text_template='{metadata_str}\\n\\n{content}'), score=0.8847859790809772),\n",
       " NodeWithScore(node=TextNode(id_='9fa28f87-36b5-4b0a-9b0b-9403db303cc5', embedding=None, metadata={'page_label': '2', 'file_name': 'A Crash Course on Domain-Driven Design.pdf', 'file_path': '/Users/dubeys/Documents/ABB/CortexLab/Assignment-3/Data/A Crash Course on Domain-Driven Design.pdf', 'file_type': 'application/pdf', 'file_size': 4062016, 'creation_date': '2024-10-08', 'last_modified_date': '2024-10-08'}, excluded_embed_metadata_keys=['file_name', 'file_type', 'file_size', 'creation_date', 'last_modified_date', 'last_accessed_date'], excluded_llm_metadata_keys=['file_name', 'file_type', 'file_size', 'creation_date', 'last_modified_date', 'last_accessed_date'], relationships={<NodeRelationship.SOURCE: '1'>: RelatedNodeInfo(node_id='3a83219d-8251-4061-b653-51c5bf215b60', node_type='4', metadata={'page_label': '2', 'file_name': 'A Crash Course on Domain-Driven Design.pdf', 'file_path': '/Users/dubeys/Documents/ABB/CortexLab/Assignment-3/Data/A Crash Course on Domain-Driven Design.pdf', 'file_type': 'application/pdf', 'file_size': 4062016, 'creation_date': '2024-10-08', 'last_modified_date': '2024-10-08'}, hash='2fd85daf5b2cbb1244416b528d894b49bc66540d0572bef5b91bcbaaba456dd7')}, metadata_template='{key}: {value}', metadata_separator='\\n', text='Domain-Driven Design (DDD) focuses on creating so\\x00ware systems that closely align with the\\nunderlying business domain.\\xa0\\nIt aims to bridge the gap between the technical implementation and the business requirements\\nby placing the domain model at the center of the development process.\\nCore Principles of Domain-Driven Design', mimetype='text/plain', start_char_idx=0, end_char_idx=322, metadata_seperator='\\n', text_template='{metadata_str}\\n\\n{content}'), score=0.8792704442530355),\n",
       " NodeWithScore(node=TextNode(id_='7f4acfce-58da-4bd1-8d3d-c46f496e97a0', embedding=None, metadata={'page_label': '5', 'file_name': 'A Crash Course on Domain-Driven Design.pdf', 'file_path': '/Users/dubeys/Documents/ABB/CortexLab/Assignment-3/Data/A Crash Course on Domain-Driven Design.pdf', 'file_type': 'application/pdf', 'file_size': 4062016, 'creation_date': '2024-10-08', 'last_modified_date': '2024-10-08'}, excluded_embed_metadata_keys=['file_name', 'file_type', 'file_size', 'creation_date', 'last_modified_date', 'last_accessed_date'], excluded_llm_metadata_keys=['file_name', 'file_type', 'file_size', 'creation_date', 'last_modified_date', 'last_accessed_date'], relationships={<NodeRelationship.SOURCE: '1'>: RelatedNodeInfo(node_id='dda371b9-6a79-464a-8d74-b1ec2a73ab0b', node_type='4', metadata={'page_label': '5', 'file_name': 'A Crash Course on Domain-Driven Design.pdf', 'file_path': '/Users/dubeys/Documents/ABB/CortexLab/Assignment-3/Data/A Crash Course on Domain-Driven Design.pdf', 'file_type': 'application/pdf', 'file_size': 4062016, 'creation_date': '2024-10-08', 'last_modified_date': '2024-10-08'}, hash='9feafd5f7d6ef8b19b7da9e6969129f8b3e955e11af0af0a4cd3bc5bed42418b')}, metadata_template='{key}: {value}', metadata_separator='\\n', text='In DDD, the domain model is not just a conceptual tool. It is the very foundation of the so\\x00ware\\ndesign. The structure and behavior of the so\\x00ware mirror the structure and behavior of the\\nmodel.\\xa0\\nThis approach is known as model-driven design.\\nIn practice, it means that the classes, relationships, and behaviors in the code directly\\ncorrespond to the concepts, relationships, and rules in the domain model. The design is not\\ndriven by technical concerns or infrastructure details but by the need to e\\x00ectively express the\\ndomain model.\\nFor example, if the banking domain model de\\x00nes an \"Account\" concept with behaviors like\\n\"deposit\" and \"withdraw,\" the so\\x00ware design will include an \"Account\" class with methods for\\n\"deposit\" and \"withdraw.\" The implementation details of how these methods work will be\\nguided by the rules and requirements captured in the model. We’ve already seen this in action in\\nthe previous section.\\nCra\\x00ing a domain model is the most important aspect of Domain Driven Design. However, some\\nkey patterns and practices can help us achieve optimal results.\\nLet’s look at the major ones in detail.\\nIn the context of Domain-Driven Design (DDD), a layered architecture helps isolate the domain\\nmodel and promote a clear separation of concerns.\\nThe diagram below shows how an application can be structured into layers.\\n\\xa0\\xa0\\xa0\\xa0\\xa0\\xa0\\xa0\\xa0// Perform withdrawal logic\\xa0\\xa0\\xa0\\xa0\\xa0\\xa0\\xa0\\xa0if (balance >= amount) {\\xa0\\xa0\\xa0\\xa0\\xa0\\xa0\\xa0\\xa0\\xa0\\xa0\\xa0\\xa0balance -= amount;\\xa0\\xa0\\xa0\\xa0\\xa0\\xa0\\xa0\\xa0} else {\\xa0\\xa0\\xa0\\xa0\\xa0\\xa0\\xa0\\xa0\\xa0\\xa0\\xa0\\xa0throw new InsufficientFundsException(\"Insufficient funds for withdrawal\");\\xa0\\xa0\\xa0\\xa0\\xa0\\xa0\\xa0\\xa0}\\xa0\\xa0\\xa0\\xa0}}\\nDomain Model to Software Design\\nKey Patterns to Craft a Domain Model\\nLayered Architecture', mimetype='text/plain', start_char_idx=0, end_char_idx=1642, metadata_seperator='\\n', text_template='{metadata_str}\\n\\n{content}'), score=0.8717234481970509),\n",
       " NodeWithScore(node=TextNode(id_='caa1118a-114f-4c08-b327-03fafea492c0', embedding=None, metadata={'page_label': '14', 'file_name': 'A Crash Course on Domain-Driven Design.pdf', 'file_path': '/Users/dubeys/Documents/ABB/CortexLab/Assignment-3/Data/A Crash Course on Domain-Driven Design.pdf', 'file_type': 'application/pdf', 'file_size': 4062016, 'creation_date': '2024-10-08', 'last_modified_date': '2024-10-08'}, excluded_embed_metadata_keys=['file_name', 'file_type', 'file_size', 'creation_date', 'last_modified_date', 'last_accessed_date'], excluded_llm_metadata_keys=['file_name', 'file_type', 'file_size', 'creation_date', 'last_modified_date', 'last_accessed_date'], relationships={<NodeRelationship.SOURCE: '1'>: RelatedNodeInfo(node_id='6164d8ae-a096-4558-b0d1-566e82ca0832', node_type='4', metadata={'page_label': '14', 'file_name': 'A Crash Course on Domain-Driven Design.pdf', 'file_path': '/Users/dubeys/Documents/ABB/CortexLab/Assignment-3/Data/A Crash Course on Domain-Driven Design.pdf', 'file_type': 'application/pdf', 'file_size': 4062016, 'creation_date': '2024-10-08', 'last_modified_date': '2024-10-08'}, hash='bed602b763896d898d28918ae7ea74ee4bcc799823e404c0567cf8bcf2680348')}, metadata_template='{key}: {value}', metadata_separator='\\n', text='Factories ensure that the objects they create are always in a consistent and fully initialized\\nstate.\\nFor example, an “OrderFactory” in an e-commerce system can take all the necessary details\\n(customer, items, quantities, etc.), create the “Order” and “LineItem” instances, link them\\ntogether appropriately, and return the resulting Order aggregate to the client.\\nWhen dealing with large models in big projects, some strategic design concepts should be\\nfollowed to gain the bene\\x00ts of domain-driven design.\\nIn large-scale so\\x00ware projects, the domain model o\\x00en encompasses multiple subdomains,\\neach with its own set of concepts, entities, and business rules.\\xa0\\nAttempting to maintain a single, uni\\x00ed model across all these subdomains can lead to a\\ncomplex and tangled model that becomes di\\x00cult to understand, reason about, and maintain\\nover time.\\nThe solution to this challenge is to introduce the concept of Bounded Contexts.\\xa0\\nA Bounded Context is a speci\\x00c area within the domain model that represents a particular\\nsubdomain or a cohesive set of related concepts. Each Bounded Context encapsulates its uni\\x00ed\\nmodel, which is tailored to the speci\\x00c needs and requirements of that subdomain.\\nStrategic Design Concepts of DDD\\nBounded Contexts', mimetype='text/plain', start_char_idx=0, end_char_idx=1244, metadata_seperator='\\n', text_template='{metadata_str}\\n\\n{content}'), score=0.8651875803372339),\n",
       " NodeWithScore(node=TextNode(id_='a72e3e37-53fd-45a3-aa40-9385deaa198a', embedding=None, metadata={'page_label': '3', 'file_name': 'A Crash Course on Domain-Driven Design.pdf', 'file_path': '/Users/dubeys/Documents/ABB/CortexLab/Assignment-3/Data/A Crash Course on Domain-Driven Design.pdf', 'file_type': 'application/pdf', 'file_size': 4062016, 'creation_date': '2024-10-08', 'last_modified_date': '2024-10-08'}, excluded_embed_metadata_keys=['file_name', 'file_type', 'file_size', 'creation_date', 'last_modified_date', 'last_accessed_date'], excluded_llm_metadata_keys=['file_name', 'file_type', 'file_size', 'creation_date', 'last_modified_date', 'last_accessed_date'], relationships={<NodeRelationship.SOURCE: '1'>: RelatedNodeInfo(node_id='88df2977-e37f-4647-bc90-87ba31d676a4', node_type='4', metadata={'page_label': '3', 'file_name': 'A Crash Course on Domain-Driven Design.pdf', 'file_path': '/Users/dubeys/Documents/ABB/CortexLab/Assignment-3/Data/A Crash Course on Domain-Driven Design.pdf', 'file_type': 'application/pdf', 'file_size': 4062016, 'creation_date': '2024-10-08', 'last_modified_date': '2024-10-08'}, hash='9856d56cc10b0508e38823e59163fd2befdea0ffd0d09c970a3702bddea29947')}, metadata_template='{key}: {value}', metadata_separator='\\n', text=\"There are three core principles of DDD:\\nCreating a rich domain model based on input from domain experts\\nUsing a ubiquitous language based on the domain model\\nDriving the design of the so\\x00ware from the domain model\\nLet's explore each of these principles in more detail.\\nThe foundation of DDD lies in the creation of a rich domain model that accurately captures the\\nkey concepts, relationships, and business rules of the problem domain. This model is not created\\nin isolation by the development team but emerges through close collaboration with domain\\nexperts who possess deep knowledge of the business.\\xa0\\nThe process of distilling domain knowledge into a usable model is known as knowledge\\ncrunching.\\nDuring this process, the development team works closely with the domain experts to identify and\\nre\\x00ne the most relevant concepts and rules for the problem. This collaborative e\\x00ort o\\x00en\\nincludes brainstorming sessions, experimentation with di\\x00erent model designs, and iterative\\nre\\x00nement based on feedback and insights gained during development.\\nFor example, in a banking system, a knowledge session with domain experts from the \\x00nance\\ndepartment would focus on understanding core concepts such as accounts, customers,\\ntransactions, and interest calculations.\\xa0\\nThe goal is to create a model that captures these fundamental concepts and their relationships,\\nwhich are understandable to the domain experts and serve as a practical foundation for the\\nso\\x00ware system.\\nAs the domain model takes shape, it gives rise to a common language shared by the development\\nteam and domain experts. DDD refers to this as the ubiquitous language, as it permeates all\\naspects of the project.\\nCreating a Rich Domain Model\\nUsing a Ubiquitous Language\", mimetype='text/plain', start_char_idx=0, end_char_idx=1729, metadata_seperator='\\n', text_template='{metadata_str}\\n\\n{content}'), score=0.8647036473190804),\n",
       " NodeWithScore(node=TextNode(id_='cf3aa1b8-1e3e-41fd-9785-523685c4c16f', embedding=None, metadata={'page_label': '20', 'file_name': 'A Crash Course on Domain-Driven Design.pdf', 'file_path': '/Users/dubeys/Documents/ABB/CortexLab/Assignment-3/Data/A Crash Course on Domain-Driven Design.pdf', 'file_type': 'application/pdf', 'file_size': 4062016, 'creation_date': '2024-10-08', 'last_modified_date': '2024-10-08'}, excluded_embed_metadata_keys=['file_name', 'file_type', 'file_size', 'creation_date', 'last_modified_date', 'last_accessed_date'], excluded_llm_metadata_keys=['file_name', 'file_type', 'file_size', 'creation_date', 'last_modified_date', 'last_accessed_date'], relationships={<NodeRelationship.SOURCE: '1'>: RelatedNodeInfo(node_id='0c5b7ffe-e029-4af6-952a-1e78cdb79e39', node_type='4', metadata={'page_label': '20', 'file_name': 'A Crash Course on Domain-Driven Design.pdf', 'file_path': '/Users/dubeys/Documents/ABB/CortexLab/Assignment-3/Data/A Crash Course on Domain-Driven Design.pdf', 'file_type': 'application/pdf', 'file_size': 4062016, 'creation_date': '2024-10-08', 'last_modified_date': '2024-10-08'}, hash='b78a751e4f4549616655401441aa36f645cacd6f72508aebd12131b6de7f4f6a')}, metadata_template='{key}: {value}', metadata_separator='\\n', text=\"It would be even better if you included Domain Events as a part of tactical DDD components or\\npatterns. Though it's a newer concept it still plays a crucial role in the domain model when raising\\nbusiness logic events in event-driven systems.\\nLIKE (5) REPLY SHARE\\n© 2024ByteByteGo\\xa0∙\\xa0Privacy ∙ Terms ∙ Collection notice\\nSubstackis the home for great culture\", mimetype='text/plain', start_char_idx=0, end_char_idx=355, metadata_seperator='\\n', text_template='{metadata_str}\\n\\n{content}'), score=0.8409933475157426),\n",
       " NodeWithScore(node=TextNode(id_='53d887e0-f42a-4868-8fda-b00b24c6b9f2', embedding=None, metadata={'page_label': '7', 'file_name': 'A Crash Course on Domain-Driven Design.pdf', 'file_path': '/Users/dubeys/Documents/ABB/CortexLab/Assignment-3/Data/A Crash Course on Domain-Driven Design.pdf', 'file_type': 'application/pdf', 'file_size': 4062016, 'creation_date': '2024-10-08', 'last_modified_date': '2024-10-08'}, excluded_embed_metadata_keys=['file_name', 'file_type', 'file_size', 'creation_date', 'last_modified_date', 'last_accessed_date'], excluded_llm_metadata_keys=['file_name', 'file_type', 'file_size', 'creation_date', 'last_modified_date', 'last_accessed_date'], relationships={<NodeRelationship.SOURCE: '1'>: RelatedNodeInfo(node_id='9bda6855-70e3-4eff-b520-429204d80b0c', node_type='4', metadata={'page_label': '7', 'file_name': 'A Crash Course on Domain-Driven Design.pdf', 'file_path': '/Users/dubeys/Documents/ABB/CortexLab/Assignment-3/Data/A Crash Course on Domain-Driven Design.pdf', 'file_type': 'application/pdf', 'file_size': 4062016, 'creation_date': '2024-10-08', 'last_modified_date': '2024-10-08'}, hash='ec6186a10bbf1bfca89787e59a3b7764710a2aca4c6b2325896a89b2fa9ef14f')}, metadata_template='{key}: {value}', metadata_separator='\\n', text='persistence, messaging, logging, and other technical services.\\xa0\\nFor example, in an e-commerce system, the Domain Layer would contain core business concepts\\nlike Product, Order, and Customer. The UI Layer would have screens for product display,\\nshopping cart, and checkout. The Application Layer would handle the \\x00ow of the order\\nplacement process. The Infrastructure Layer would provide functionalities like persistence,\\nmessaging, etc.\\nIn Domain-Driven Design (DDD), an entity is a fundamental concept that represents an object\\nwith a distinct identity and a thread of continuity.\\xa0\\nEntities possess several key characteristics that distinguish them from other objects in the\\ndomain:\\nEntities are de\\x00ned by their identity rather than just a collection of attributes. The identity\\nmakes an entity unique.\\nEntities can change their state and attributes with time while still maintaining their\\nidentity.\\xa0\\nThe identity of an entity is used to track and reference it within the system. Other entities\\ncan establish relationships with an entity based on its identity.\\nTo understand the concept of an entity, consider a banking system. In this context, BankAccount\\nwould be a prime example of an entity.\\nEach bank account has a unique account number that serves as its identity. This account number\\ndistinguishes one account from another, regardless of any other attributes di\\x00erent accounts\\nmay have in common.\\nEntities', mimetype='text/plain', start_char_idx=0, end_char_idx=1413, metadata_seperator='\\n', text_template='{metadata_str}\\n\\n{content}'), score=0.8361951142425916),\n",
       " NodeWithScore(node=TextNode(id_='2c905e29-707c-4311-9813-42d4c82a8213', embedding=None, metadata={'page_label': '6', 'file_name': 'A Crash Course on Domain-Driven Design.pdf', 'file_path': '/Users/dubeys/Documents/ABB/CortexLab/Assignment-3/Data/A Crash Course on Domain-Driven Design.pdf', 'file_type': 'application/pdf', 'file_size': 4062016, 'creation_date': '2024-10-08', 'last_modified_date': '2024-10-08'}, excluded_embed_metadata_keys=['file_name', 'file_type', 'file_size', 'creation_date', 'last_modified_date', 'last_accessed_date'], excluded_llm_metadata_keys=['file_name', 'file_type', 'file_size', 'creation_date', 'last_modified_date', 'last_accessed_date'], relationships={<NodeRelationship.SOURCE: '1'>: RelatedNodeInfo(node_id='90e1a7f9-26c9-47bd-8992-7b6dae3024e5', node_type='4', metadata={'page_label': '6', 'file_name': 'A Crash Course on Domain-Driven Design.pdf', 'file_path': '/Users/dubeys/Documents/ABB/CortexLab/Assignment-3/Data/A Crash Course on Domain-Driven Design.pdf', 'file_type': 'application/pdf', 'file_size': 4062016, 'creation_date': '2024-10-08', 'last_modified_date': '2024-10-08'}, hash='67b2d2d417fe4b0f19eef89a46acef7064dbb7176fab3d4ed7a6402b3d158fbe')}, metadata_template='{key}: {value}', metadata_separator='\\n', text='Typically, a layered architecture consists of four main layers:\\nUser Interface (Presentation) Layer: This layer is responsible for presenting information to\\nthe user and interpreting user commands. It communicates with the Application Layer to\\nsend user requests and receive responses.\\nApplication Layer: The Application Layer coordinates the overall application activity and\\norchestrates the data \\x00ow between the UI and the Domain Layer. It does not contain\\nbusiness logic but delegates it to the Domain Layer. The Application Layer handles\\napplication-speci\\x00c tasks, such as transaction management and security.\\nDomain Layer: The Domain Layer is the core of the so\\x00ware system and the primary focus\\nof Domain-Driven Design. The Domain Layer represents the real-world concepts, entities,\\nand their relationships within the problem domain. In other words, it encapsulates the\\ninformation about the business domain and contains the business rules and logic.\\nInfrastructure Layer: The Infrastructure Layer provides generic technical capabilities and\\nsupports the higher layers of the architecture. It includes cross-cutting concerns such as', mimetype='text/plain', start_char_idx=0, end_char_idx=1138, metadata_seperator='\\n', text_template='{metadata_str}\\n\\n{content}'), score=0.8355289409239544),\n",
       " NodeWithScore(node=TextNode(id_='e2f121db-cff0-4567-9c8d-e16d4c49d35f', embedding=None, metadata={'page_label': '13', 'file_name': 'A Crash Course on Domain-Driven Design.pdf', 'file_path': '/Users/dubeys/Documents/ABB/CortexLab/Assignment-3/Data/A Crash Course on Domain-Driven Design.pdf', 'file_type': 'application/pdf', 'file_size': 4062016, 'creation_date': '2024-10-08', 'last_modified_date': '2024-10-08'}, excluded_embed_metadata_keys=['file_name', 'file_type', 'file_size', 'creation_date', 'last_modified_date', 'last_accessed_date'], excluded_llm_metadata_keys=['file_name', 'file_type', 'file_size', 'creation_date', 'last_modified_date', 'last_accessed_date'], relationships={<NodeRelationship.SOURCE: '1'>: RelatedNodeInfo(node_id='ee74d50d-f7f2-45dc-9f62-f3c763079fd9', node_type='4', metadata={'page_label': '13', 'file_name': 'A Crash Course on Domain-Driven Design.pdf', 'file_path': '/Users/dubeys/Documents/ABB/CortexLab/Assignment-3/Data/A Crash Course on Domain-Driven Design.pdf', 'file_type': 'application/pdf', 'file_size': 4062016, 'creation_date': '2024-10-08', 'last_modified_date': '2024-10-08'}, hash='decc2bbd0589a53be281ef27bf871e5aa5ccabe99b6f0e5d81a1e8328ae1d58b')}, metadata_template='{key}: {value}', metadata_separator='\\n', text='These methods allow the client code to interact with the “CustomerRepository” in a way that\\nmimics a collection of “Customer” objects.\\xa0\\nThe client can add, remove, and query customers without worrying about how the data is stored\\nin the database. Behind the scenes, the repository may use an ORM tool, SQL query, or any other\\npersistence mechanism to interact with the underlying storage system.\\nIn domain-driven design, a factory is a pattern that encapsulates the creation of complex entities\\nor aggregates. It provides an interface for clients to create objects without exposing the details of\\nthe creation process or the dependencies involved.\\nSome key characteristics of factories are as follows:\\nFactories hide the intricacies of object instantiation, validations, and dealing with\\ndependencies.\\nFactories allow the creation process to be changed independently of the clients that use\\nthem. This improves the \\x00exibility and maintainability of the system.\\nFactory', mimetype='text/plain', start_char_idx=0, end_char_idx=968, metadata_seperator='\\n', text_template='{metadata_str}\\n\\n{content}'), score=0.8273449291618539)]"
      ]
     },
     "metadata": {},
     "output_type": "display_data"
    }
   ],
   "source": [
    "display(results)"
   ]
  },
  {
   "cell_type": "code",
   "execution_count": 22,
   "id": "04c2c909-f813-4fea-b929-072c3fff9070",
   "metadata": {},
   "outputs": [],
   "source": [
    "# format results in markdown\n",
    "results_markdown = \"\"\n",
    "for i, result in enumerate(results, start=1):\n",
    "    doc = result.node  # Access the Document inside NodeWithScore\n",
    "    text_snippet = doc.text  # Extract text\n",
    "    metadata = doc.metadata  # Extract metadata dictionary\n",
    "\n",
    "    # Example: get file_name or page_label safely\n",
    "    file_name = metadata.get(\"file_name\", \"N/A\")\n",
    "    page_label = metadata.get(\"page_label\", \"N/A\")\n",
    "\n",
    "    results_markdown += f\"{i}. **File:** {file_name}  \\n\"\n",
    "    results_markdown += f\"   **Page:** {page_label}  \\n\"\n",
    "    results_markdown += f\"   **Snippet:** {text_snippet[:500]}...  \\n\\n\"  # Limit snippet to first 500 chars"
   ]
  },
  {
   "cell_type": "code",
   "execution_count": 26,
   "id": "80ea3c04-833d-428c-8abb-fdefe8b1cbb4",
   "metadata": {},
   "outputs": [
    {
     "data": {
      "text/markdown": [
       "1. **File:** A Crash Course on Domain-Driven Design.pdf  \n",
       "   **Page:** 1  \n",
       "   **Snippet:** A Crash Course on Domain-Driven Design\n",
       "AUG 01, 2024\n",
       "1 21 Share\n",
       "Developing so\u0000ware for complex domains is a challenging task. \n",
       "As the complexity of the problem domain grows, it becomes increasingly di\u0000cult to create\n",
       "so\u0000ware that accurately represents the business concepts, rules, and processes. Poorly designed\n",
       "so\u0000ware can quickly turn into an incomprehensible tangle of code that is di\u0000cult to understand,\n",
       "maintain, and extend.\n",
       "Domain-Driven Design (DDD) o\u0000ers a solution to this problem.\n",
       "DDD is an ...  \n",
       "\n",
       "2. **File:** A Crash Course on Domain-Driven Design.pdf  \n",
       "   **Page:** 19  \n",
       "   **Snippet:** DDD focuses on creating a rich domain model that re\u0000ects a deep understanding of the\n",
       "business domain. The domain model is based on input from domain experts and serves as a\n",
       "conceptual framework for the so\u0000ware.\n",
       "A ubiquitous language is cultivated based on the domain model. This language is used\n",
       "consistently by developers and domain experts in all communication - in conversations,\n",
       "documentation, and the code itself. Using the ubiquitous language helps keep the model\n",
       "and implementation aligned.\n",
       "Th...  \n",
       "\n",
       "3. **File:** A Crash Course on Domain-Driven Design.pdf  \n",
       "   **Page:** 2  \n",
       "   **Snippet:** Domain-Driven Design (DDD) focuses on creating so\u0000ware systems that closely align with the\n",
       "underlying business domain. \n",
       "It aims to bridge the gap between the technical implementation and the business requirements\n",
       "by placing the domain model at the center of the development process.\n",
       "Core Principles of Domain-Driven Design...  \n",
       "\n",
       "4. **File:** A Crash Course on Domain-Driven Design.pdf  \n",
       "   **Page:** 5  \n",
       "   **Snippet:** In DDD, the domain model is not just a conceptual tool. It is the very foundation of the so\u0000ware\n",
       "design. The structure and behavior of the so\u0000ware mirror the structure and behavior of the\n",
       "model. \n",
       "This approach is known as model-driven design.\n",
       "In practice, it means that the classes, relationships, and behaviors in the code directly\n",
       "correspond to the concepts, relationships, and rules in the domain model. The design is not\n",
       "driven by technical concerns or infrastructure details but by the need to e...  \n",
       "\n",
       "5. **File:** A Crash Course on Domain-Driven Design.pdf  \n",
       "   **Page:** 14  \n",
       "   **Snippet:** Factories ensure that the objects they create are always in a consistent and fully initialized\n",
       "state.\n",
       "For example, an “OrderFactory” in an e-commerce system can take all the necessary details\n",
       "(customer, items, quantities, etc.), create the “Order” and “LineItem” instances, link them\n",
       "together appropriately, and return the resulting Order aggregate to the client.\n",
       "When dealing with large models in big projects, some strategic design concepts should be\n",
       "followed to gain the bene\u0000ts of domain-driven d...  \n",
       "\n",
       "6. **File:** A Crash Course on Domain-Driven Design.pdf  \n",
       "   **Page:** 3  \n",
       "   **Snippet:** There are three core principles of DDD:\n",
       "Creating a rich domain model based on input from domain experts\n",
       "Using a ubiquitous language based on the domain model\n",
       "Driving the design of the so\u0000ware from the domain model\n",
       "Let's explore each of these principles in more detail.\n",
       "The foundation of DDD lies in the creation of a rich domain model that accurately captures the\n",
       "key concepts, relationships, and business rules of the problem domain. This model is not created\n",
       "in isolation by the development team bu...  \n",
       "\n",
       "7. **File:** A Crash Course on Domain-Driven Design.pdf  \n",
       "   **Page:** 20  \n",
       "   **Snippet:** It would be even better if you included Domain Events as a part of tactical DDD components or\n",
       "patterns. Though it's a newer concept it still plays a crucial role in the domain model when raising\n",
       "business logic events in event-driven systems.\n",
       "LIKE (5) REPLY SHARE\n",
       "© 2024ByteByteGo ∙ Privacy ∙ Terms ∙ Collection notice\n",
       "Substackis the home for great culture...  \n",
       "\n",
       "8. **File:** A Crash Course on Domain-Driven Design.pdf  \n",
       "   **Page:** 7  \n",
       "   **Snippet:** persistence, messaging, logging, and other technical services. \n",
       "For example, in an e-commerce system, the Domain Layer would contain core business concepts\n",
       "like Product, Order, and Customer. The UI Layer would have screens for product display,\n",
       "shopping cart, and checkout. The Application Layer would handle the \u0000ow of the order\n",
       "placement process. The Infrastructure Layer would provide functionalities like persistence,\n",
       "messaging, etc.\n",
       "In Domain-Driven Design (DDD), an entity is a fundamental conce...  \n",
       "\n",
       "9. **File:** A Crash Course on Domain-Driven Design.pdf  \n",
       "   **Page:** 6  \n",
       "   **Snippet:** Typically, a layered architecture consists of four main layers:\n",
       "User Interface (Presentation) Layer: This layer is responsible for presenting information to\n",
       "the user and interpreting user commands. It communicates with the Application Layer to\n",
       "send user requests and receive responses.\n",
       "Application Layer: The Application Layer coordinates the overall application activity and\n",
       "orchestrates the data \u0000ow between the UI and the Domain Layer. It does not contain\n",
       "business logic but delegates it to the Do...  \n",
       "\n",
       "10. **File:** A Crash Course on Domain-Driven Design.pdf  \n",
       "   **Page:** 13  \n",
       "   **Snippet:** These methods allow the client code to interact with the “CustomerRepository” in a way that\n",
       "mimics a collection of “Customer” objects. \n",
       "The client can add, remove, and query customers without worrying about how the data is stored\n",
       "in the database. Behind the scenes, the repository may use an ORM tool, SQL query, or any other\n",
       "persistence mechanism to interact with the underlying storage system.\n",
       "In domain-driven design, a factory is a pattern that encapsulates the creation of complex entities\n",
       "or ag...  \n",
       "\n"
      ],
      "text/plain": [
       "<IPython.core.display.Markdown object>"
      ]
     },
     "metadata": {},
     "output_type": "display_data"
    }
   ],
   "source": [
    "display(Markdown(results_markdown))"
   ]
  },
  {
   "cell_type": "code",
   "execution_count": 29,
   "id": "f432fbcc-8028-4200-a5fd-8239a76610a4",
   "metadata": {},
   "outputs": [],
   "source": [
    "# configure response synthesizer\n",
    "response_synthesizer = get_response_synthesizer()"
   ]
  },
  {
   "cell_type": "markdown",
   "id": "f9aded40",
   "metadata": {},
   "source": [
    "## 📊 Similarity Computation"
   ]
  },
  {
   "cell_type": "code",
   "execution_count": 30,
   "id": "89e56071-5748-483d-b2ad-2c37bc8bbd85",
   "metadata": {},
   "outputs": [],
   "source": [
    "# assemble query engine\n",
    "query_engine = RetrieverQueryEngine(\n",
    "    retriever=retriever,\n",
    "    response_synthesizer=response_synthesizer,\n",
    "    node_postprocessors=[SimilarityPostprocessor(similarity_cutoff=0.7)],\n",
    ")"
   ]
  },
  {
   "cell_type": "code",
   "execution_count": 31,
   "id": "3a58d29e-8ba5-472d-b0a0-469516ce9de0",
   "metadata": {},
   "outputs": [
    {
     "name": "stdout",
     "output_type": "stream",
     "text": [
      "Domain-Driven Design (DDD) is an approach to software development that focuses on modeling the core domain and business logic to guide the software design process. It emphasizes creating a rich domain model based on input from domain experts, using a ubiquitous language for communication, and driving the software design from the domain model itself. By placing the primary focus on the core domain, basing designs on the domain model, and fostering collaboration between technical and domain experts, DDD aims to manage complexity and create maintainable and extensible systems aligned with the business domain.\n"
     ]
    }
   ],
   "source": [
    "response = query_engine.query(\"what is Domain-Driven Design ?\")\n",
    "print(response)"
   ]
  },
  {
   "cell_type": "markdown",
   "id": "76d29db3",
   "metadata": {},
   "source": [
    "## 🔎 Embedding & Vectorization"
   ]
  },
  {
   "cell_type": "code",
   "execution_count": 34,
   "id": "9c90c145-3108-4a8e-ba35-81b6404d6af0",
   "metadata": {},
   "outputs": [
    {
     "name": "stdout",
     "output_type": "stream",
     "text": [
      "* Running on local URL:  http://127.0.0.1:7860\n",
      "* To create a public link, set `share=True` in `launch()`.\n"
     ]
    },
    {
     "data": {
      "text/html": [
       "<div><iframe src=\"http://127.0.0.1:7860/\" width=\"100%\" height=\"500\" allow=\"autoplay; camera; microphone; clipboard-read; clipboard-write;\" frameborder=\"0\" allowfullscreen></iframe></div>"
      ],
      "text/plain": [
       "<IPython.core.display.HTML object>"
      ]
     },
     "metadata": {},
     "output_type": "display_data"
    },
    {
     "data": {
      "text/plain": []
     },
     "execution_count": 34,
     "metadata": {},
     "output_type": "execute_result"
    },
    {
     "name": "stdout",
     "output_type": "stream",
     "text": [
      "Created dataset file at: .gradio/flagged/dataset1.csv\n"
     ]
    }
   ],
   "source": [
    "# 6. Gradio UI\n",
    "\n",
    "def rag_chat(user_input: str) -> str:\n",
    "    \"\"\"TODO: Add docstring.\"\"\"\n",
    "    return str(query_engine.query(user_input))\n",
    "\n",
    "iface = gr.Interface(\n",
    "    fn=rag_chat,\n",
    "    inputs=\"text\",\n",
    "    outputs=\"text\",\n",
    "    title=\"📚 Offline RAG Chatbot\",\n",
    "    description=\"Ask questions about your local documents (embeddings + LLM are 100% local).\"\n",
    ")\n",
    "\n",
    "iface.launch(inbrowser=True, share=False)"
   ]
  }
 ],
 "metadata": {
  "kernelspec": {
   "display_name": "Python 3 (ipykernel)",
   "language": "python",
   "name": "python3"
  },
  "language_info": {
   "codemirror_mode": {
    "name": "ipython",
    "version": 3
   },
   "file_extension": ".py",
   "mimetype": "text/x-python",
   "name": "python",
   "nbconvert_exporter": "python",
   "pygments_lexer": "ipython3",
   "version": "3.13.6"
  }
 },
 "nbformat": 4,
 "nbformat_minor": 5
}
