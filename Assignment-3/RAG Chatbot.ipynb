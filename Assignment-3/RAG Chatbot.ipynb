{
 "cells": [
  {
   "cell_type": "code",
   "execution_count": 1,
   "id": "ca93b189-afa4-4bdf-aa51-b93f009c30dc",
   "metadata": {},
   "outputs": [],
   "source": [
    "# pip install llama-index llama-index-embeddings-huggingface llama-index-llms-huggingface gradio transformers torch\n",
    "\n",
    "from llama_index.core import SimpleDirectoryReader, VectorStoreIndex, Settings\n",
    "from llama_index.embeddings.huggingface import HuggingFaceEmbedding\n",
    "from llama_index.llms.huggingface import HuggingFaceLLM\n",
    "from transformers import AutoTokenizer, AutoModelForSeq2SeqLM\n",
    "\n",
    "from llama_index.core import VectorStoreIndex, get_response_synthesizer, Settings\n",
    "from llama_index.core.schema import TextNode\n",
    "from llama_index.core.retrievers import VectorIndexRetriever\n",
    "from llama_index.core.query_engine import RetrieverQueryEngine\n",
    "from llama_index.core.postprocessor import SimilarityPostprocessor\n",
    "\n",
    "import torch, gradio as gr\n",
    "\n",
    "from openai import OpenAI\n",
    "from dotenv import load_dotenv\n",
    "import os\n",
    "from IPython.display import display, Markdown\n",
    "\n",
    "\n",
    "# 1. Local embeddings\n",
    "# Settings.embed_model = HuggingFaceEmbedding(\"sentence-transformers/all-MiniLM-L6-v2\")\n",
    "\n",
    "# 2. Local LLM (tiny model for CPU)\n",
    "# model_name = \"google/flan-t5-small\"\n",
    "# tokenizer = AutoTokenizer.from_pretrained(model_name)\n",
    "# model = AutoModelForSeq2SeqLM.from_pretrained(model_name)\n",
    "# Settings.llm = HuggingFaceLLM(model=model, tokenizer=tokenizer, max_new_tokens=128,context_window=512,generate_kwargs={\"temperature\": 0.1})\n",
    "\n",
    "# 3. Load documents\n",
    "docs = SimpleDirectoryReader(\"Data/\").load_data()\n",
    "\n"
   ]
  },
  {
   "cell_type": "code",
   "execution_count": 2,
   "id": "c9f3d3f6-7b65-46bb-a05c-7af0370d66a2",
   "metadata": {},
   "outputs": [],
   "source": [
    "# import sk from .env file\n",
    "\n",
    "load_dotenv()\n",
    "\n",
    "# connect to openai API\n",
    "client = OpenAI(api_key=os.getenv(\"BOBAD_OPENAI_KEY\"))"
   ]
  },
  {
   "cell_type": "code",
   "execution_count": 3,
   "id": "6a8b7287-a059-430a-81ea-2027ae7311b3",
   "metadata": {},
   "outputs": [
    {
     "name": "stdout",
     "output_type": "stream",
     "text": [
      "Embedding Model: text-embedding-ada-002\n",
      "Index Size: 20\n",
      "First embedding shape: 1536\n"
     ]
    }
   ],
   "source": [
    "# 4. Build index\n",
    "index = VectorStoreIndex.from_documents(docs)\n",
    "\n",
    "print(f\"Embedding Model: {index._embed_model.model_name}\")\n",
    "print(f\"Index Size: {len(index.vector_store.data.embedding_dict)}\")\n",
    "first_key = list(index.vector_store.data.embedding_dict.keys())[0]\n",
    "first_embedding = index.vector_store.data.embedding_dict[first_key]\n",
    "print(f\"First embedding shape: {len(first_embedding)}\")\n",
    "\n"
   ]
  },
  {
   "cell_type": "code",
   "execution_count": 69,
   "id": "e135245c-a23b-4d11-8d01-c83205590efa",
   "metadata": {},
   "outputs": [],
   "source": [
    "from llama_index.embeddings.huggingface import HuggingFaceEmbedding\n",
    "\n",
    "# changing embedding model\n",
    "Settings.embed_model = HuggingFaceEmbedding(\n",
    "    model_name=\"BAAI/bge-small-en-v1.5\"\n",
    ")"
   ]
  },
  {
   "cell_type": "code",
   "execution_count": 4,
   "id": "04712895-10c1-44d6-aacf-c6b0a25c2dc0",
   "metadata": {},
   "outputs": [
    {
     "name": "stdout",
     "output_type": "stream",
     "text": [
      "Embedding Model: text-embedding-ada-002\n",
      "Index Size: 20\n",
      "First embedding shape: 1536\n"
     ]
    }
   ],
   "source": [
    "index = VectorStoreIndex(docs)\n",
    "\n",
    "print(f\"Embedding Model: {index._embed_model.model_name}\")\n",
    "print(f\"Index Size: {len(index.vector_store.data.embedding_dict)}\")\n",
    "first_key = list(index.vector_store.data.embedding_dict.keys())[0]\n",
    "first_embedding = index.vector_store.data.embedding_dict[first_key]\n",
    "print(f\"First embedding shape: {len(first_embedding)}\")"
   ]
  },
  {
   "cell_type": "code",
   "execution_count": 5,
   "id": "5f551de4-2e1c-4929-bbc0-4a7aae67b119",
   "metadata": {},
   "outputs": [],
   "source": [
    "# configure retriever\n",
    "retriever = VectorIndexRetriever(\n",
    "    index=index,\n",
    "    similarity_top_k=10,\n",
    ")"
   ]
  },
  {
   "cell_type": "code",
   "execution_count": 6,
   "id": "cfed8063-2f51-4cd9-9abb-029e4e1cde0e",
   "metadata": {},
   "outputs": [],
   "source": [
    "results = retriever.retrieve(\"what is Domain Driven Design?\")"
   ]
  },
  {
   "cell_type": "code",
   "execution_count": 7,
   "id": "a9ae72ed-2faf-4ad9-88ad-843a3482239c",
   "metadata": {},
   "outputs": [
    {
     "data": {
      "text/plain": [
       "[NodeWithScore(node=Document(id_='b62c15ae-eb15-4507-ad1c-bfc576e273bc', embedding=None, metadata={'page_label': '1', 'file_name': 'A Crash Course on Domain-Driven Design.pdf', 'file_path': '/Users/dubeys/Documents/ABB/CortexLab/Assignment-3/Data/A Crash Course on Domain-Driven Design.pdf', 'file_type': 'application/pdf', 'file_size': 4062016, 'creation_date': '2024-10-08', 'last_modified_date': '2024-10-08'}, excluded_embed_metadata_keys=['file_name', 'file_type', 'file_size', 'creation_date', 'last_modified_date', 'last_accessed_date'], excluded_llm_metadata_keys=['file_name', 'file_type', 'file_size', 'creation_date', 'last_modified_date', 'last_accessed_date'], relationships={}, metadata_template='{key}: {value}', metadata_separator='\\n', text_resource=MediaResource(embeddings=None, data=None, text='A Crash Course on Domain-Driven Design\\nAUG 01, 2024\\n1 21 Share\\nDeveloping so\\x00ware for complex domains is a challenging task.\\xa0\\nAs the complexity of the problem domain grows, it becomes increasingly di\\x00cult to create\\nso\\x00ware that accurately represents the business concepts, rules, and processes. Poorly designed\\nso\\x00ware can quickly turn into an incomprehensible tangle of code that is di\\x00cult to understand,\\nmaintain, and extend.\\nDomain-Driven Design (DDD) o\\x00ers a solution to this problem.\\nDDD is an approach to so\\x00ware development that tackles domain complexity by emphasizing\\nthe importance of modeling the core domain and business logic and using those models as the\\nfoundation for so\\x00ware design.\\nAt its heart, Domain-Driven Design is about:\\nPlacing the primary focus on the core domain.\\nBasing complex designs on a model of the domain\\nBuilding collaboration between technical and domain experts.\\nThe need for Domain-Driven Design has become more pressing in recent years. Architectures\\nbased on microservices and cloud computing have resulted in systems composed of numerous\\nsmall components that interact in intricate ways. Without a clear and well-de\\x00ned model of the\\ndomain guiding their design, such systems can quickly become a \"big ball of mud\".\\xa0\\nIn this article, we’ll understand the basics of Domain-Driven Design and its key concepts that\\ncan help us build more maintainable and extensible systems that are aligned with the core\\ndomain and business logic.\\nBYTEBYTEGO\\n319', path=None, url=None, mimetype=None), image_resource=None, audio_resource=None, video_resource=None, text_template='{metadata_str}\\n\\n{content}'), score=0.8850436360520133),\n",
       " NodeWithScore(node=Document(id_='37e1927a-2c03-4a6a-beb1-98db2c58a70d', embedding=None, metadata={'page_label': '19', 'file_name': 'A Crash Course on Domain-Driven Design.pdf', 'file_path': '/Users/dubeys/Documents/ABB/CortexLab/Assignment-3/Data/A Crash Course on Domain-Driven Design.pdf', 'file_type': 'application/pdf', 'file_size': 4062016, 'creation_date': '2024-10-08', 'last_modified_date': '2024-10-08'}, excluded_embed_metadata_keys=['file_name', 'file_type', 'file_size', 'creation_date', 'last_modified_date', 'last_accessed_date'], excluded_llm_metadata_keys=['file_name', 'file_type', 'file_size', 'creation_date', 'last_modified_date', 'last_accessed_date'], relationships={}, metadata_template='{key}: {value}', metadata_separator='\\n', text_resource=MediaResource(embeddings=None, data=None, text='DDD focuses on creating a rich domain model that re\\x00ects a deep understanding of the\\nbusiness domain. The domain model is based on input from domain experts and serves as a\\nconceptual framework for the so\\x00ware.\\nA ubiquitous language is cultivated based on the domain model. This language is used\\nconsistently by developers and domain experts in all communication - in conversations,\\ndocumentation, and the code itself. Using the ubiquitous language helps keep the model\\nand implementation aligned.\\nThe so\\x00ware design is driven by the domain model, rather than technical concerns. This is\\ncalled model-driven design.\\nDDD manages complexity by isolating the domain layer from infrastructure and user\\ninterface concerns and dividing large models into Bounded Contexts.\\nTo build a domain model, DDD utilizes several patterns such as layered architecture,\\nentities, value objects, services, aggregates, repositories, and factories.\\nFor more complex domains, strategic design patterns like bounded contexts are leveraged.\\xa0\\nTo manage relationships between multiple Bounded Contexts, techniques like context\\nmaps, shared kernels, and anticorruption layers are used.\\n319 Likes·21 Restacks\\nDiscussion about this post\\nComments Restacks\\nWrite a comment...\\nRuslanAug 26\\nThank you for the great overview of the Domain-Driven Design concepts!', path=None, url=None, mimetype=None), image_resource=None, audio_resource=None, video_resource=None, text_template='{metadata_str}\\n\\n{content}'), score=0.8848121661873096),\n",
       " NodeWithScore(node=Document(id_='149e7a20-78de-45e0-9c99-3e857c8f7e99', embedding=None, metadata={'page_label': '2', 'file_name': 'A Crash Course on Domain-Driven Design.pdf', 'file_path': '/Users/dubeys/Documents/ABB/CortexLab/Assignment-3/Data/A Crash Course on Domain-Driven Design.pdf', 'file_type': 'application/pdf', 'file_size': 4062016, 'creation_date': '2024-10-08', 'last_modified_date': '2024-10-08'}, excluded_embed_metadata_keys=['file_name', 'file_type', 'file_size', 'creation_date', 'last_modified_date', 'last_accessed_date'], excluded_llm_metadata_keys=['file_name', 'file_type', 'file_size', 'creation_date', 'last_modified_date', 'last_accessed_date'], relationships={}, metadata_template='{key}: {value}', metadata_separator='\\n', text_resource=MediaResource(embeddings=None, data=None, text='Domain-Driven Design (DDD) focuses on creating so\\x00ware systems that closely align with the\\nunderlying business domain.\\xa0\\nIt aims to bridge the gap between the technical implementation and the business requirements\\nby placing the domain model at the center of the development process.\\nCore Principles of Domain-Driven Design', path=None, url=None, mimetype=None), image_resource=None, audio_resource=None, video_resource=None, text_template='{metadata_str}\\n\\n{content}'), score=0.8792704442530355),\n",
       " NodeWithScore(node=Document(id_='8661eb65-3924-430e-bc0a-50efa39795b4', embedding=None, metadata={'page_label': '5', 'file_name': 'A Crash Course on Domain-Driven Design.pdf', 'file_path': '/Users/dubeys/Documents/ABB/CortexLab/Assignment-3/Data/A Crash Course on Domain-Driven Design.pdf', 'file_type': 'application/pdf', 'file_size': 4062016, 'creation_date': '2024-10-08', 'last_modified_date': '2024-10-08'}, excluded_embed_metadata_keys=['file_name', 'file_type', 'file_size', 'creation_date', 'last_modified_date', 'last_accessed_date'], excluded_llm_metadata_keys=['file_name', 'file_type', 'file_size', 'creation_date', 'last_modified_date', 'last_accessed_date'], relationships={}, metadata_template='{key}: {value}', metadata_separator='\\n', text_resource=MediaResource(embeddings=None, data=None, text='In DDD, the domain model is not just a conceptual tool. It is the very foundation of the so\\x00ware\\ndesign. The structure and behavior of the so\\x00ware mirror the structure and behavior of the\\nmodel.\\xa0\\nThis approach is known as model-driven design.\\nIn practice, it means that the classes, relationships, and behaviors in the code directly\\ncorrespond to the concepts, relationships, and rules in the domain model. The design is not\\ndriven by technical concerns or infrastructure details but by the need to e\\x00ectively express the\\ndomain model.\\nFor example, if the banking domain model de\\x00nes an \"Account\" concept with behaviors like\\n\"deposit\" and \"withdraw,\" the so\\x00ware design will include an \"Account\" class with methods for\\n\"deposit\" and \"withdraw.\" The implementation details of how these methods work will be\\nguided by the rules and requirements captured in the model. We’ve already seen this in action in\\nthe previous section.\\nCra\\x00ing a domain model is the most important aspect of Domain Driven Design. However, some\\nkey patterns and practices can help us achieve optimal results.\\nLet’s look at the major ones in detail.\\nIn the context of Domain-Driven Design (DDD), a layered architecture helps isolate the domain\\nmodel and promote a clear separation of concerns.\\nThe diagram below shows how an application can be structured into layers.\\n\\xa0\\xa0\\xa0\\xa0\\xa0\\xa0\\xa0\\xa0// Perform withdrawal logic\\xa0\\xa0\\xa0\\xa0\\xa0\\xa0\\xa0\\xa0if (balance >= amount) {\\xa0\\xa0\\xa0\\xa0\\xa0\\xa0\\xa0\\xa0\\xa0\\xa0\\xa0\\xa0balance -= amount;\\xa0\\xa0\\xa0\\xa0\\xa0\\xa0\\xa0\\xa0} else {\\xa0\\xa0\\xa0\\xa0\\xa0\\xa0\\xa0\\xa0\\xa0\\xa0\\xa0\\xa0throw new InsufficientFundsException(\"Insufficient funds for withdrawal\");\\xa0\\xa0\\xa0\\xa0\\xa0\\xa0\\xa0\\xa0}\\xa0\\xa0\\xa0\\xa0}}\\nDomain Model to Software Design\\nKey Patterns to Craft a Domain Model\\nLayered Architecture', path=None, url=None, mimetype=None), image_resource=None, audio_resource=None, video_resource=None, text_template='{metadata_str}\\n\\n{content}'), score=0.8717234481970509),\n",
       " NodeWithScore(node=Document(id_='6a9a5a88-6e02-48d1-8b97-a198de41a8a4', embedding=None, metadata={'page_label': '14', 'file_name': 'A Crash Course on Domain-Driven Design.pdf', 'file_path': '/Users/dubeys/Documents/ABB/CortexLab/Assignment-3/Data/A Crash Course on Domain-Driven Design.pdf', 'file_type': 'application/pdf', 'file_size': 4062016, 'creation_date': '2024-10-08', 'last_modified_date': '2024-10-08'}, excluded_embed_metadata_keys=['file_name', 'file_type', 'file_size', 'creation_date', 'last_modified_date', 'last_accessed_date'], excluded_llm_metadata_keys=['file_name', 'file_type', 'file_size', 'creation_date', 'last_modified_date', 'last_accessed_date'], relationships={}, metadata_template='{key}: {value}', metadata_separator='\\n', text_resource=MediaResource(embeddings=None, data=None, text='Factories ensure that the objects they create are always in a consistent and fully initialized\\nstate.\\nFor example, an “OrderFactory” in an e-commerce system can take all the necessary details\\n(customer, items, quantities, etc.), create the “Order” and “LineItem” instances, link them\\ntogether appropriately, and return the resulting Order aggregate to the client.\\nWhen dealing with large models in big projects, some strategic design concepts should be\\nfollowed to gain the bene\\x00ts of domain-driven design.\\nIn large-scale so\\x00ware projects, the domain model o\\x00en encompasses multiple subdomains,\\neach with its own set of concepts, entities, and business rules.\\xa0\\nAttempting to maintain a single, uni\\x00ed model across all these subdomains can lead to a\\ncomplex and tangled model that becomes di\\x00cult to understand, reason about, and maintain\\nover time.\\nThe solution to this challenge is to introduce the concept of Bounded Contexts.\\xa0\\nA Bounded Context is a speci\\x00c area within the domain model that represents a particular\\nsubdomain or a cohesive set of related concepts. Each Bounded Context encapsulates its uni\\x00ed\\nmodel, which is tailored to the speci\\x00c needs and requirements of that subdomain.\\nStrategic Design Concepts of DDD\\nBounded Contexts', path=None, url=None, mimetype=None), image_resource=None, audio_resource=None, video_resource=None, text_template='{metadata_str}\\n\\n{content}'), score=0.8651875803372339),\n",
       " NodeWithScore(node=Document(id_='8df4218b-98ab-40c9-a82d-7867d1aa87be', embedding=None, metadata={'page_label': '3', 'file_name': 'A Crash Course on Domain-Driven Design.pdf', 'file_path': '/Users/dubeys/Documents/ABB/CortexLab/Assignment-3/Data/A Crash Course on Domain-Driven Design.pdf', 'file_type': 'application/pdf', 'file_size': 4062016, 'creation_date': '2024-10-08', 'last_modified_date': '2024-10-08'}, excluded_embed_metadata_keys=['file_name', 'file_type', 'file_size', 'creation_date', 'last_modified_date', 'last_accessed_date'], excluded_llm_metadata_keys=['file_name', 'file_type', 'file_size', 'creation_date', 'last_modified_date', 'last_accessed_date'], relationships={}, metadata_template='{key}: {value}', metadata_separator='\\n', text_resource=MediaResource(embeddings=None, data=None, text=\"There are three core principles of DDD:\\nCreating a rich domain model based on input from domain experts\\nUsing a ubiquitous language based on the domain model\\nDriving the design of the so\\x00ware from the domain model\\nLet's explore each of these principles in more detail.\\nThe foundation of DDD lies in the creation of a rich domain model that accurately captures the\\nkey concepts, relationships, and business rules of the problem domain. This model is not created\\nin isolation by the development team but emerges through close collaboration with domain\\nexperts who possess deep knowledge of the business.\\xa0\\nThe process of distilling domain knowledge into a usable model is known as knowledge\\ncrunching.\\nDuring this process, the development team works closely with the domain experts to identify and\\nre\\x00ne the most relevant concepts and rules for the problem. This collaborative e\\x00ort o\\x00en\\nincludes brainstorming sessions, experimentation with di\\x00erent model designs, and iterative\\nre\\x00nement based on feedback and insights gained during development.\\nFor example, in a banking system, a knowledge session with domain experts from the \\x00nance\\ndepartment would focus on understanding core concepts such as accounts, customers,\\ntransactions, and interest calculations.\\xa0\\nThe goal is to create a model that captures these fundamental concepts and their relationships,\\nwhich are understandable to the domain experts and serve as a practical foundation for the\\nso\\x00ware system.\\nAs the domain model takes shape, it gives rise to a common language shared by the development\\nteam and domain experts. DDD refers to this as the ubiquitous language, as it permeates all\\naspects of the project.\\nCreating a Rich Domain Model\\nUsing a Ubiquitous Language\", path=None, url=None, mimetype=None), image_resource=None, audio_resource=None, video_resource=None, text_template='{metadata_str}\\n\\n{content}'), score=0.864752883233413),\n",
       " NodeWithScore(node=Document(id_='9babec21-55fa-43a6-9a96-54648de8b740', embedding=None, metadata={'page_label': '20', 'file_name': 'A Crash Course on Domain-Driven Design.pdf', 'file_path': '/Users/dubeys/Documents/ABB/CortexLab/Assignment-3/Data/A Crash Course on Domain-Driven Design.pdf', 'file_type': 'application/pdf', 'file_size': 4062016, 'creation_date': '2024-10-08', 'last_modified_date': '2024-10-08'}, excluded_embed_metadata_keys=['file_name', 'file_type', 'file_size', 'creation_date', 'last_modified_date', 'last_accessed_date'], excluded_llm_metadata_keys=['file_name', 'file_type', 'file_size', 'creation_date', 'last_modified_date', 'last_accessed_date'], relationships={}, metadata_template='{key}: {value}', metadata_separator='\\n', text_resource=MediaResource(embeddings=None, data=None, text=\"It would be even better if you included Domain Events as a part of tactical DDD components or\\npatterns. Though it's a newer concept it still plays a crucial role in the domain model when raising\\nbusiness logic events in event-driven systems.\\nLIKE (5) REPLY SHARE\\n© 2024ByteByteGo\\xa0∙\\xa0Privacy ∙ Terms ∙ Collection notice\\nSubstackis the home for great culture\", path=None, url=None, mimetype=None), image_resource=None, audio_resource=None, video_resource=None, text_template='{metadata_str}\\n\\n{content}'), score=0.8409933475157426),\n",
       " NodeWithScore(node=Document(id_='7ea405cb-41f9-4d94-b974-a09215f50acc', embedding=None, metadata={'page_label': '7', 'file_name': 'A Crash Course on Domain-Driven Design.pdf', 'file_path': '/Users/dubeys/Documents/ABB/CortexLab/Assignment-3/Data/A Crash Course on Domain-Driven Design.pdf', 'file_type': 'application/pdf', 'file_size': 4062016, 'creation_date': '2024-10-08', 'last_modified_date': '2024-10-08'}, excluded_embed_metadata_keys=['file_name', 'file_type', 'file_size', 'creation_date', 'last_modified_date', 'last_accessed_date'], excluded_llm_metadata_keys=['file_name', 'file_type', 'file_size', 'creation_date', 'last_modified_date', 'last_accessed_date'], relationships={}, metadata_template='{key}: {value}', metadata_separator='\\n', text_resource=MediaResource(embeddings=None, data=None, text='persistence, messaging, logging, and other technical services.\\xa0\\nFor example, in an e-commerce system, the Domain Layer would contain core business concepts\\nlike Product, Order, and Customer. The UI Layer would have screens for product display,\\nshopping cart, and checkout. The Application Layer would handle the \\x00ow of the order\\nplacement process. The Infrastructure Layer would provide functionalities like persistence,\\nmessaging, etc.\\nIn Domain-Driven Design (DDD), an entity is a fundamental concept that represents an object\\nwith a distinct identity and a thread of continuity.\\xa0\\nEntities possess several key characteristics that distinguish them from other objects in the\\ndomain:\\nEntities are de\\x00ned by their identity rather than just a collection of attributes. The identity\\nmakes an entity unique.\\nEntities can change their state and attributes with time while still maintaining their\\nidentity.\\xa0\\nThe identity of an entity is used to track and reference it within the system. Other entities\\ncan establish relationships with an entity based on its identity.\\nTo understand the concept of an entity, consider a banking system. In this context, BankAccount\\nwould be a prime example of an entity.\\nEach bank account has a unique account number that serves as its identity. This account number\\ndistinguishes one account from another, regardless of any other attributes di\\x00erent accounts\\nmay have in common.\\nEntities', path=None, url=None, mimetype=None), image_resource=None, audio_resource=None, video_resource=None, text_template='{metadata_str}\\n\\n{content}'), score=0.8361951142425916),\n",
       " NodeWithScore(node=Document(id_='2ca82a79-3e38-473d-a96f-b6787c4dc1ab', embedding=None, metadata={'page_label': '6', 'file_name': 'A Crash Course on Domain-Driven Design.pdf', 'file_path': '/Users/dubeys/Documents/ABB/CortexLab/Assignment-3/Data/A Crash Course on Domain-Driven Design.pdf', 'file_type': 'application/pdf', 'file_size': 4062016, 'creation_date': '2024-10-08', 'last_modified_date': '2024-10-08'}, excluded_embed_metadata_keys=['file_name', 'file_type', 'file_size', 'creation_date', 'last_modified_date', 'last_accessed_date'], excluded_llm_metadata_keys=['file_name', 'file_type', 'file_size', 'creation_date', 'last_modified_date', 'last_accessed_date'], relationships={}, metadata_template='{key}: {value}', metadata_separator='\\n', text_resource=MediaResource(embeddings=None, data=None, text='Typically, a layered architecture consists of four main layers:\\nUser Interface (Presentation) Layer: This layer is responsible for presenting information to\\nthe user and interpreting user commands. It communicates with the Application Layer to\\nsend user requests and receive responses.\\nApplication Layer: The Application Layer coordinates the overall application activity and\\norchestrates the data \\x00ow between the UI and the Domain Layer. It does not contain\\nbusiness logic but delegates it to the Domain Layer. The Application Layer handles\\napplication-speci\\x00c tasks, such as transaction management and security.\\nDomain Layer: The Domain Layer is the core of the so\\x00ware system and the primary focus\\nof Domain-Driven Design. The Domain Layer represents the real-world concepts, entities,\\nand their relationships within the problem domain. In other words, it encapsulates the\\ninformation about the business domain and contains the business rules and logic.\\nInfrastructure Layer: The Infrastructure Layer provides generic technical capabilities and\\nsupports the higher layers of the architecture. It includes cross-cutting concerns such as\\n', path=None, url=None, mimetype=None), image_resource=None, audio_resource=None, video_resource=None, text_template='{metadata_str}\\n\\n{content}'), score=0.8355289409239544),\n",
       " NodeWithScore(node=Document(id_='580caea7-a339-49ed-8c05-813305dabd4a', embedding=None, metadata={'page_label': '13', 'file_name': 'A Crash Course on Domain-Driven Design.pdf', 'file_path': '/Users/dubeys/Documents/ABB/CortexLab/Assignment-3/Data/A Crash Course on Domain-Driven Design.pdf', 'file_type': 'application/pdf', 'file_size': 4062016, 'creation_date': '2024-10-08', 'last_modified_date': '2024-10-08'}, excluded_embed_metadata_keys=['file_name', 'file_type', 'file_size', 'creation_date', 'last_modified_date', 'last_accessed_date'], excluded_llm_metadata_keys=['file_name', 'file_type', 'file_size', 'creation_date', 'last_modified_date', 'last_accessed_date'], relationships={}, metadata_template='{key}: {value}', metadata_separator='\\n', text_resource=MediaResource(embeddings=None, data=None, text='These methods allow the client code to interact with the “CustomerRepository” in a way that\\nmimics a collection of “Customer” objects.\\xa0\\nThe client can add, remove, and query customers without worrying about how the data is stored\\nin the database. Behind the scenes, the repository may use an ORM tool, SQL query, or any other\\npersistence mechanism to interact with the underlying storage system.\\nIn domain-driven design, a factory is a pattern that encapsulates the creation of complex entities\\nor aggregates. It provides an interface for clients to create objects without exposing the details of\\nthe creation process or the dependencies involved.\\nSome key characteristics of factories are as follows:\\nFactories hide the intricacies of object instantiation, validations, and dealing with\\ndependencies.\\nFactories allow the creation process to be changed independently of the clients that use\\nthem. This improves the \\x00exibility and maintainability of the system.\\nFactory', path=None, url=None, mimetype=None), image_resource=None, audio_resource=None, video_resource=None, text_template='{metadata_str}\\n\\n{content}'), score=0.8273449291618539)]"
      ]
     },
     "metadata": {},
     "output_type": "display_data"
    }
   ],
   "source": [
    "display(results)"
   ]
  },
  {
   "cell_type": "code",
   "execution_count": 12,
   "id": "04c2c909-f813-4fea-b929-072c3fff9070",
   "metadata": {},
   "outputs": [],
   "source": [
    "# format results in markdown\n",
    "results_markdown = \"\"\n",
    "for i, result in enumerate(results, start=1):\n",
    "    doc = result.node  # Access the Document inside NodeWithScore\n",
    "    text_snippet = doc.text_resource.text  # Extract text\n",
    "    metadata = doc.metadata  # Extract metadata dictionary\n",
    "\n",
    "    # Example: get file_name or page_label safely\n",
    "    file_name = metadata.get(\"file_name\", \"N/A\")\n",
    "    page_label = metadata.get(\"page_label\", \"N/A\")\n",
    "\n",
    "    results_markdown += f\"{i}. **File:** {file_name}  \\n\"\n",
    "    results_markdown += f\"   **Page:** {page_label}  \\n\"\n",
    "    results_markdown += f\"   **Snippet:** {text_snippet[:500]}...  \\n\\n\"  # Limit snippet to first 500 chars\n"
   ]
  },
  {
   "cell_type": "code",
   "execution_count": 13,
   "id": "80ea3c04-833d-428c-8abb-fdefe8b1cbb4",
   "metadata": {},
   "outputs": [
    {
     "data": {
      "text/markdown": [
       "1. **File:** A Crash Course on Domain-Driven Design.pdf  \n",
       "   **Page:** 1  \n",
       "   **Snippet:** A Crash Course on Domain-Driven Design\n",
       "AUG 01, 2024\n",
       "1 21 Share\n",
       "Developing so\u0000ware for complex domains is a challenging task. \n",
       "As the complexity of the problem domain grows, it becomes increasingly di\u0000cult to create\n",
       "so\u0000ware that accurately represents the business concepts, rules, and processes. Poorly designed\n",
       "so\u0000ware can quickly turn into an incomprehensible tangle of code that is di\u0000cult to understand,\n",
       "maintain, and extend.\n",
       "Domain-Driven Design (DDD) o\u0000ers a solution to this problem.\n",
       "DDD is an ...  \n",
       "\n",
       "2. **File:** A Crash Course on Domain-Driven Design.pdf  \n",
       "   **Page:** 19  \n",
       "   **Snippet:** DDD focuses on creating a rich domain model that re\u0000ects a deep understanding of the\n",
       "business domain. The domain model is based on input from domain experts and serves as a\n",
       "conceptual framework for the so\u0000ware.\n",
       "A ubiquitous language is cultivated based on the domain model. This language is used\n",
       "consistently by developers and domain experts in all communication - in conversations,\n",
       "documentation, and the code itself. Using the ubiquitous language helps keep the model\n",
       "and implementation aligned.\n",
       "Th...  \n",
       "\n",
       "3. **File:** A Crash Course on Domain-Driven Design.pdf  \n",
       "   **Page:** 2  \n",
       "   **Snippet:** Domain-Driven Design (DDD) focuses on creating so\u0000ware systems that closely align with the\n",
       "underlying business domain. \n",
       "It aims to bridge the gap between the technical implementation and the business requirements\n",
       "by placing the domain model at the center of the development process.\n",
       "Core Principles of Domain-Driven Design...  \n",
       "\n",
       "4. **File:** A Crash Course on Domain-Driven Design.pdf  \n",
       "   **Page:** 5  \n",
       "   **Snippet:** In DDD, the domain model is not just a conceptual tool. It is the very foundation of the so\u0000ware\n",
       "design. The structure and behavior of the so\u0000ware mirror the structure and behavior of the\n",
       "model. \n",
       "This approach is known as model-driven design.\n",
       "In practice, it means that the classes, relationships, and behaviors in the code directly\n",
       "correspond to the concepts, relationships, and rules in the domain model. The design is not\n",
       "driven by technical concerns or infrastructure details but by the need to e...  \n",
       "\n",
       "5. **File:** A Crash Course on Domain-Driven Design.pdf  \n",
       "   **Page:** 14  \n",
       "   **Snippet:** Factories ensure that the objects they create are always in a consistent and fully initialized\n",
       "state.\n",
       "For example, an “OrderFactory” in an e-commerce system can take all the necessary details\n",
       "(customer, items, quantities, etc.), create the “Order” and “LineItem” instances, link them\n",
       "together appropriately, and return the resulting Order aggregate to the client.\n",
       "When dealing with large models in big projects, some strategic design concepts should be\n",
       "followed to gain the bene\u0000ts of domain-driven d...  \n",
       "\n",
       "6. **File:** A Crash Course on Domain-Driven Design.pdf  \n",
       "   **Page:** 3  \n",
       "   **Snippet:** There are three core principles of DDD:\n",
       "Creating a rich domain model based on input from domain experts\n",
       "Using a ubiquitous language based on the domain model\n",
       "Driving the design of the so\u0000ware from the domain model\n",
       "Let's explore each of these principles in more detail.\n",
       "The foundation of DDD lies in the creation of a rich domain model that accurately captures the\n",
       "key concepts, relationships, and business rules of the problem domain. This model is not created\n",
       "in isolation by the development team bu...  \n",
       "\n",
       "7. **File:** A Crash Course on Domain-Driven Design.pdf  \n",
       "   **Page:** 20  \n",
       "   **Snippet:** It would be even better if you included Domain Events as a part of tactical DDD components or\n",
       "patterns. Though it's a newer concept it still plays a crucial role in the domain model when raising\n",
       "business logic events in event-driven systems.\n",
       "LIKE (5) REPLY SHARE\n",
       "© 2024ByteByteGo ∙ Privacy ∙ Terms ∙ Collection notice\n",
       "Substackis the home for great culture...  \n",
       "\n",
       "8. **File:** A Crash Course on Domain-Driven Design.pdf  \n",
       "   **Page:** 7  \n",
       "   **Snippet:** persistence, messaging, logging, and other technical services. \n",
       "For example, in an e-commerce system, the Domain Layer would contain core business concepts\n",
       "like Product, Order, and Customer. The UI Layer would have screens for product display,\n",
       "shopping cart, and checkout. The Application Layer would handle the \u0000ow of the order\n",
       "placement process. The Infrastructure Layer would provide functionalities like persistence,\n",
       "messaging, etc.\n",
       "In Domain-Driven Design (DDD), an entity is a fundamental conce...  \n",
       "\n",
       "9. **File:** A Crash Course on Domain-Driven Design.pdf  \n",
       "   **Page:** 6  \n",
       "   **Snippet:** Typically, a layered architecture consists of four main layers:\n",
       "User Interface (Presentation) Layer: This layer is responsible for presenting information to\n",
       "the user and interpreting user commands. It communicates with the Application Layer to\n",
       "send user requests and receive responses.\n",
       "Application Layer: The Application Layer coordinates the overall application activity and\n",
       "orchestrates the data \u0000ow between the UI and the Domain Layer. It does not contain\n",
       "business logic but delegates it to the Do...  \n",
       "\n",
       "10. **File:** A Crash Course on Domain-Driven Design.pdf  \n",
       "   **Page:** 13  \n",
       "   **Snippet:** These methods allow the client code to interact with the “CustomerRepository” in a way that\n",
       "mimics a collection of “Customer” objects. \n",
       "The client can add, remove, and query customers without worrying about how the data is stored\n",
       "in the database. Behind the scenes, the repository may use an ORM tool, SQL query, or any other\n",
       "persistence mechanism to interact with the underlying storage system.\n",
       "In domain-driven design, a factory is a pattern that encapsulates the creation of complex entities\n",
       "or ag...  \n",
       "\n"
      ],
      "text/plain": [
       "<IPython.core.display.Markdown object>"
      ]
     },
     "metadata": {},
     "output_type": "display_data"
    }
   ],
   "source": [
    "display(Markdown(results_markdown))"
   ]
  },
  {
   "cell_type": "code",
   "execution_count": 76,
   "id": "fbfbe26e-6ead-489f-895c-1510c874476a",
   "metadata": {},
   "outputs": [],
   "source": [
    "# 5. Query engine\n",
    "# query_engine = index.as_query_engine(response_mode=\"compact\")\n",
    "\n"
   ]
  },
  {
   "cell_type": "code",
   "execution_count": 14,
   "id": "f432fbcc-8028-4200-a5fd-8239a76610a4",
   "metadata": {},
   "outputs": [],
   "source": [
    "# configure response synthesizer\n",
    "response_synthesizer = get_response_synthesizer()"
   ]
  },
  {
   "cell_type": "code",
   "execution_count": 15,
   "id": "89e56071-5748-483d-b2ad-2c37bc8bbd85",
   "metadata": {},
   "outputs": [],
   "source": [
    "# assemble query engine\n",
    "query_engine = RetrieverQueryEngine(\n",
    "    retriever=retriever,\n",
    "    response_synthesizer=response_synthesizer,\n",
    "    node_postprocessors=[SimilarityPostprocessor(similarity_cutoff=0.7)],\n",
    ")"
   ]
  },
  {
   "cell_type": "code",
   "execution_count": 16,
   "id": "3a58d29e-8ba5-472d-b0a0-469516ce9de0",
   "metadata": {},
   "outputs": [
    {
     "name": "stdout",
     "output_type": "stream",
     "text": [
      "Domain-Driven Design (DDD) is an approach to software development that focuses on modeling the core domain and business logic to create software systems that closely align with the underlying business domain. It emphasizes the importance of creating a rich domain model based on input from domain experts, using a ubiquitous language for communication, and driving the software design from the domain model rather than technical concerns. DDD aims to manage complexity by isolating the domain layer from infrastructure and user interface concerns, utilizing patterns such as entities, value objects, services, aggregates, repositories, and factories to build maintainable and extensible systems.\n"
     ]
    }
   ],
   "source": [
    "response = query_engine.query(\"what is Domain-Driven Design ?\")\n",
    "print(response)\n"
   ]
  },
  {
   "cell_type": "code",
   "execution_count": 17,
   "id": "a7ada01b-be93-42d5-bb9e-194de4b1171f",
   "metadata": {},
   "outputs": [
    {
     "name": "stdout",
     "output_type": "stream",
     "text": [
      "LLM: gpt-3.5-turbo\n"
     ]
    }
   ],
   "source": [
    "print(f\"LLM: {Settings.llm.model}\")\n",
    "from llama_index.llms.openai import OpenAI"
   ]
  },
  {
   "cell_type": "code",
   "execution_count": 18,
   "id": "7c0b8340-6f87-4bf6-b11e-12a86eedec0c",
   "metadata": {},
   "outputs": [
    {
     "name": "stdout",
     "output_type": "stream",
     "text": [
      "LLM: gpt-4o\n"
     ]
    }
   ],
   "source": [
    "# changing the global LLM\n",
    "Settings.llm = OpenAI(\"gpt-4o\")\n",
    "print(f\"LLM: {Settings.llm.model}\")"
   ]
  },
  {
   "cell_type": "code",
   "execution_count": 19,
   "id": "1f6014a2-d16b-4ba4-9fb0-de6472c56ded",
   "metadata": {},
   "outputs": [
    {
     "name": "stdout",
     "output_type": "stream",
     "text": [
      "Domain-Driven Design (DDD) is an approach to software development that addresses the complexity of problem domains by focusing on modeling the core domain and business logic. It emphasizes creating a rich domain model that reflects a deep understanding of the business domain, with input from domain experts. DDD uses this model as the foundation for software design, ensuring that the software accurately represents business concepts, rules, and processes. It involves building collaboration between technical and domain experts and utilizes a ubiquitous language to maintain alignment between the model and implementation. DDD also manages complexity by isolating the domain layer from other concerns and dividing large models into Bounded Contexts, using various patterns and techniques to handle relationships and maintain clarity in complex systems.\n"
     ]
    }
   ],
   "source": [
    "# simpler way to make query engine\n",
    "query_engine = index.as_query_engine()\n",
    "response = query_engine.query(\"what is Domain-Driven Design?\")\n",
    "print(response)"
   ]
  },
  {
   "cell_type": "code",
   "execution_count": 20,
   "id": "a20dfa41-eacf-4a1e-b45e-b03e5f847098",
   "metadata": {},
   "outputs": [
    {
     "name": "stdout",
     "output_type": "stream",
     "text": [
      "LLM: gpt-4o\n"
     ]
    }
   ],
   "source": [
    "print(f\"LLM: {Settings.llm.model}\")"
   ]
  },
  {
   "cell_type": "code",
   "execution_count": 21,
   "id": "9c90c145-3108-4a8e-ba35-81b6404d6af0",
   "metadata": {},
   "outputs": [
    {
     "name": "stdout",
     "output_type": "stream",
     "text": [
      "* Running on local URL:  http://127.0.0.1:7860\n",
      "* To create a public link, set `share=True` in `launch()`.\n"
     ]
    },
    {
     "data": {
      "text/html": [
       "<div><iframe src=\"http://127.0.0.1:7860/\" width=\"100%\" height=\"500\" allow=\"autoplay; camera; microphone; clipboard-read; clipboard-write;\" frameborder=\"0\" allowfullscreen></iframe></div>"
      ],
      "text/plain": [
       "<IPython.core.display.HTML object>"
      ]
     },
     "metadata": {},
     "output_type": "display_data"
    },
    {
     "data": {
      "text/plain": []
     },
     "execution_count": 21,
     "metadata": {},
     "output_type": "execute_result"
    }
   ],
   "source": [
    "# 6. Gradio UI\n",
    "def rag_chat(user_input: str) -> str:\n",
    "    return str(query_engine.query(user_input))\n",
    "\n",
    "iface = gr.Interface(\n",
    "    fn=rag_chat,\n",
    "    inputs=\"text\",\n",
    "    outputs=\"text\",\n",
    "    title=\"📚 Offline RAG Chatbot\",\n",
    "    description=\"Ask questions about your local documents (embeddings + LLM are 100% local).\"\n",
    ")\n",
    "\n",
    "iface.launch()"
   ]
  },
  {
   "cell_type": "code",
   "execution_count": null,
   "id": "cd0a58ae-10f5-41a3-ad2e-d5486632b741",
   "metadata": {},
   "outputs": [],
   "source": []
  }
 ],
 "metadata": {
  "kernelspec": {
   "display_name": "Python 3 (ipykernel)",
   "language": "python",
   "name": "python3"
  },
  "language_info": {
   "codemirror_mode": {
    "name": "ipython",
    "version": 3
   },
   "file_extension": ".py",
   "mimetype": "text/x-python",
   "name": "python",
   "nbconvert_exporter": "python",
   "pygments_lexer": "ipython3",
   "version": "3.13.6"
  }
 },
 "nbformat": 4,
 "nbformat_minor": 5
}
