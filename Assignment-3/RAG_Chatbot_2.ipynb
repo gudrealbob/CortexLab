{
 "cells": [
  {
   "cell_type": "code",
   "execution_count": 8,
   "id": "93ba0636-4fb6-4f43-9141-ba411cde0bef",
   "metadata": {},
   "outputs": [
    {
     "name": "stdout",
     "output_type": "stream",
     "text": [
      "* Running on local URL:  http://127.0.0.1:7860\n",
      "* To create a public link, set `share=True` in `launch()`.\n"
     ]
    },
    {
     "data": {
      "text/html": [
       "<div><iframe src=\"http://127.0.0.1:7860/\" width=\"100%\" height=\"500\" allow=\"autoplay; camera; microphone; clipboard-read; clipboard-write;\" frameborder=\"0\" allowfullscreen></iframe></div>"
      ],
      "text/plain": [
       "<IPython.core.display.HTML object>"
      ]
     },
     "metadata": {},
     "output_type": "display_data"
    },
    {
     "data": {
      "text/plain": []
     },
     "execution_count": 8,
     "metadata": {},
     "output_type": "execute_result"
    }
   ],
   "source": [
    "# 1. Imports\n",
    "from llama_index.core import SimpleDirectoryReader, VectorStoreIndex, get_response_synthesizer\n",
    "from llama_index.core.retrievers import  VectorIndexRetriever\n",
    "from llama_index.core.query_engine import  RetrieverQueryEngine\n",
    "from llama_index.core.postprocessor import  SimilarityPostprocessor\n",
    "import gradio as gr\n",
    "from openai import  OpenAI\n",
    "from dotenv import  load_dotenv\n",
    "import  os\n",
    "\n",
    "# import  sk from .env file\n",
    "\n",
    "load_dotenv()\n",
    "\n",
    "# connect to openai API\n",
    "client = OpenAI(api_key=os.getenv(\"BOBAD_OPENAI_KEY\"))\n",
    "\n",
    "# 2. Load & Chunk Documents\n",
    "documents = SimpleDirectoryReader('Data/').load_data()\n",
    "\n",
    "# 3. Build Vector Index\n",
    "index = VectorStoreIndex.from_documents(documents)\n",
    "\n",
    "# 4. Set Up Retriever & Synthesizer\n",
    "retriever = index.as_retriever(similarity_top_k=3)\n",
    "\n",
    "# 5. Build Query Engine\n",
    "query_engine = RetrieverQueryEngine(retriever=retriever)\n",
    "\n",
    "# 6. Gradio Chat UI\n",
    "def rag_chat(user_input):\n",
    "    response = query_engine.query(user_input)\n",
    "    return str(response)\n",
    "\n",
    "iface = gr.Interface(\n",
    "    fn=rag_chat,\n",
    "    inputs=\"text\",\n",
    "    outputs=\"text\",\n",
    "    title=\"Local RAG Chatbot\",\n",
    "    description=\"Ask questions about your documents.\"\n",
    ")\n",
    "iface.launch(inbrowser=True, share=False)\n"
   ]
  },
  {
   "cell_type": "code",
   "execution_count": null,
   "id": "155e7035-b5d3-4b6c-b3a0-d726e755a957",
   "metadata": {},
   "outputs": [],
   "source": []
  }
 ],
 "metadata": {
  "kernelspec": {
   "display_name": "Python 3 (ipykernel)",
   "language": "python",
   "name": "python3"
  },
  "language_info": {
   "codemirror_mode": {
    "name": "ipython",
    "version": 3
   },
   "file_extension": ".py",
   "mimetype": "text/x-python",
   "name": "python",
   "nbconvert_exporter": "python",
   "pygments_lexer": "ipython3",
   "version": "3.13.6"
  }
 },
 "nbformat": 4,
 "nbformat_minor": 5
}
